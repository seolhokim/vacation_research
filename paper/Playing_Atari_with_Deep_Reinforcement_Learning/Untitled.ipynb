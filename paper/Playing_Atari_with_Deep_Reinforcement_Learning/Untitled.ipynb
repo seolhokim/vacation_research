{
 "cells": [
  {
   "cell_type": "code",
   "execution_count": null,
   "metadata": {},
   "outputs": [],
   "source": [
    "#Playing Atari with Deep Reinforcement Learning\n",
    "\n",
    "#CNN model, trained on a variant of Q-learning\n",
    "#input은 raw pixel, output은 future reward.\n"
   ]
  },
  {
   "cell_type": "code",
   "execution_count": null,
   "metadata": {},
   "outputs": [],
   "source": [
    "#현재\n",
    "#high dimensinal sensory input 을 넣고싶으나 안되서\n",
    "# hand-craft model을 이용해서 확장성 떨어짐, 복잡\n"
   ]
  },
  {
   "cell_type": "code",
   "execution_count": null,
   "metadata": {},
   "outputs": [],
   "source": [
    "#RL 문제점\n",
    "#most DL requires hand labeled training data.\n",
    "#-> CNN with a variant Q-learning을 통해 해결\n",
    "\n",
    "#most DL asuumed data samples are independent\n",
    "#-> Experience replay 를 통해 해결\n",
    "# -> 한군데 모았다가 필요한만큼 랜덤하게 가져옴  ->independent한문제 해결\n",
    "# seqence 자체가 중요하진 않기때문에 가능함.\n"
   ]
  },
  {
   "cell_type": "code",
   "execution_count": null,
   "metadata": {},
   "outputs": [],
   "source": []
  },
  {
   "cell_type": "code",
   "execution_count": null,
   "metadata": {},
   "outputs": [],
   "source": []
  },
  {
   "cell_type": "code",
   "execution_count": null,
   "metadata": {},
   "outputs": [],
   "source": []
  }
 ],
 "metadata": {
  "kernelspec": {
   "display_name": "Python 3",
   "language": "python",
   "name": "python3"
  },
  "language_info": {
   "codemirror_mode": {
    "name": "ipython",
    "version": 3
   },
   "file_extension": ".py",
   "mimetype": "text/x-python",
   "name": "python",
   "nbconvert_exporter": "python",
   "pygments_lexer": "ipython3",
   "version": "3.6.4"
  }
 },
 "nbformat": 4,
 "nbformat_minor": 2
}
