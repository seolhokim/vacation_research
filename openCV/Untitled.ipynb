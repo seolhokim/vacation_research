{
 "cells": [
  {
   "cell_type": "code",
   "execution_count": 1,
   "metadata": {},
   "outputs": [],
   "source": [
    "import cv2"
   ]
  },
  {
   "cell_type": "code",
   "execution_count": null,
   "metadata": {},
   "outputs": [],
   "source": [
    "import os\n",
    "os.listdir('./image_video')"
   ]
  },
  {
   "cell_type": "code",
   "execution_count": null,
   "metadata": {},
   "outputs": [],
   "source": [
    "#http://webnautes.tistory.com/574?category=710851\n",
    "\n",
    "#http://opencv-python.readthedocs.io/en/latest/doc/02.videoStart/videoStart.html"
   ]
  },
  {
   "cell_type": "code",
   "execution_count": null,
   "metadata": {},
   "outputs": [],
   "source": [
    "'''\n",
    "cv2.imread() #이미지를 읽어오는 함수.\n",
    "\n",
    "IMREAD_COLOR = 1   알파채널을 무시하고 이미지를 불러옵니다. R,G,B 채널만 사용.\n",
    "\n",
    "IMREAD_GRAYSCALE = 0  그레이스케일 이미지로 변환하여 불러옵니다.\n",
    "\n",
    "IMREAD_UNCHANGED = -1 알파채널 포함 A, R, G, B 채널을 사용하도록 불러옵니다.\n",
    "'''\n",
    "\"\"\"\n",
    "cv2.waitKey( delay )\n",
    "키보드에서 아무키나 누를 때까지 기다리는 함수\n",
    "\"\"\"\n",
    "\n",
    "\"\"\"\n",
    "cv2.imwrite( filename, img, params )\n",
    "filename 이름으로 img를 저장\n",
    "\"\"\"\n",
    "\n",
    "\"\"\"\n",
    "cv2.destroyWindow( winname ) & cv.destroyAllWindows()\n",
    "winname 이름을 가지는 윈도우를 종료\n",
    "\"\"\"\n",
    "\n",
    "\"\"\"\n",
    "\n",
    "\"\"\""
   ]
  },
  {
   "cell_type": "code",
   "execution_count": 18,
   "metadata": {},
   "outputs": [],
   "source": [
    "cat_img = cv2.imread(\"image_video/cat_1.jpg\",0)\n",
    "cv2.imshow('load image',cat_img)"
   ]
  },
  {
   "cell_type": "code",
   "execution_count": null,
   "metadata": {},
   "outputs": [],
   "source": [
    "key = cv2.waitKey(0) \n",
    " \n",
    "if key == ord('s'): #s키가 입력된거면 이미지 저장\n",
    " \n",
    "    cv2.imwrite( 'lena_grayscale.jpg', img )\n",
    " \n",
    " \n",
    "cv2.destroyWindow( 'load image')"
   ]
  },
  {
   "cell_type": "code",
   "execution_count": null,
   "metadata": {},
   "outputs": [],
   "source": [
    "capture = cv2.VideoCapture(0)\n",
    "while(True):\n",
    "    ret, frame = capture.read()\n",
    "    img_gray = cv2.cvtColor(frame,cv2.COLOR_BGR2GRAY)\n",
    "    \n",
    "    cv2.imshow(\"카메라 영상\", img_gray)\n",
    "    \n",
    "    if cv2.waitKey(1) & 0xFF == ord('q'):\n",
    "        break\n",
    "        \n",
    "capture.release()\n",
    "cv2.destroyWindow(\"카메라 영상\")"
   ]
  },
  {
   "cell_type": "code",
   "execution_count": null,
   "metadata": {},
   "outputs": [],
   "source": [
    "cap = cv2.VideoCapture(0)\n",
    "\n",
    "ret,frame =  cap.read()\n",
    "frame = cv2.flipe(frame,0)\n",
    "fps = 15\n",
    "width = frame.shape[1]\n",
    "height = frame.shape[0]\n",
    "\n",
    "fourcc = cv2.VideoWriter_fourcc(*'MJPG')\n",
    "output = cv2.VideoWriter('output.avi', fourcc,fps,(width,height))\n",
    "\n",
    "while(cap.isOpened()):\n",
    "    ret, frame = cap.read()\n",
    "    \n",
    "    if ret == False:\n",
    "        break\n",
    "    \n",
    "    else :\n",
    "        frame = cv2.flip(frame,0)\n",
    "        output.write(frame)\n",
    "        cv2.imshow('frame', frame)\n",
    "        \n",
    "        if cv2.waitKey(1) & 0xFF == ord('q'):\n",
    "            break\n",
    "            \n",
    "cap.release()\n",
    "output.release()\n",
    "cv2.destroyWindow('frame')"
   ]
  },
  {
   "cell_type": "code",
   "execution_count": null,
   "metadata": {},
   "outputs": [],
   "source": [
    "capture = cv2.VideoCapture('output.avi')\n",
    "\n",
    "while(capture.isOpened()):\n",
    "    ret,frame = capture.read()\n",
    "    \n",
    "    if ret == True:\n",
    "        cv2.imshow('frame',frame)\n",
    "        \n",
    "        if cv2.waitKey(1) & 0xFF == ord('q'):\n",
    "            break\n",
    "    \n",
    "    else :\n",
    "        break\n",
    "        \n",
    "capture.release()\n",
    "cv2.destroyWindow('frame')"
   ]
  },
  {
   "cell_type": "code",
   "execution_count": null,
   "metadata": {},
   "outputs": [],
   "source": []
  }
 ],
 "metadata": {
  "kernelspec": {
   "display_name": "Python 3",
   "language": "python",
   "name": "python3"
  },
  "language_info": {
   "codemirror_mode": {
    "name": "ipython",
    "version": 3
   },
   "file_extension": ".py",
   "mimetype": "text/x-python",
   "name": "python",
   "nbconvert_exporter": "python",
   "pygments_lexer": "ipython3",
   "version": "3.6.4"
  }
 },
 "nbformat": 4,
 "nbformat_minor": 2
}
