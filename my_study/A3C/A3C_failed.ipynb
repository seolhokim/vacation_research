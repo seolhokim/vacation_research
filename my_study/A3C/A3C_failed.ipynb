{
 "cells": [
  {
   "cell_type": "code",
   "execution_count": null,
   "metadata": {},
   "outputs": [],
   "source": [
    "#https://github.com/rlcode/reinforcement-learning-kr/blob/master/3-atari/1-breakout/breakout_a3c.py\n",
    "#손을봤음."
   ]
  },
  {
   "cell_type": "code",
   "execution_count": null,
   "metadata": {},
   "outputs": [],
   "source": [
    "from skimage.color import rgb2gray\n",
    "from skimage.transform import resize\n",
    "from keras.layers import Dense, Flatten, Input\n",
    "from keras.layers.convolutional import Conv2D\n",
    "from keras.optimizers import RMSprop\n",
    "from keras import backend as K\n",
    "from keras.models import Model\n",
    "import tensorflow as tf\n",
    "import numpy as np\n",
    "import threading\n",
    "import random\n",
    "import time\n",
    "import gym"
   ]
  },
  {
   "cell_type": "code",
   "execution_count": null,
   "metadata": {},
   "outputs": [],
   "source": [
    "global episode\n",
    "episode = 0\n",
    "EPISODES = 8000000"
   ]
  },
  {
   "cell_type": "code",
   "execution_count": null,
   "metadata": {},
   "outputs": [],
   "source": [
    "\n",
    "class A3CAgent:\n",
    "    def __init__(self,state_size, action_size):\n",
    "        # 상태크기와 행동크기를 갖고옴\n",
    "        self.state_size = state_size\n",
    "        self.action_size = action_size\n",
    "        # A3C 하이퍼파라미터\n",
    "        self.discount_factor = 0.99\n",
    "        self.no_op_steps = 30\n",
    "        self.actor_lr = 2.5e-4\n",
    "        self.critic_lr = 2.5e-4\n",
    "        # 쓰레드의 갯수\n",
    "        self.threads = 8\n",
    "\n",
    "        # 정책신경망과 가치신경망을 생성\n",
    "        self.actor, self.critic = self.build_model()\n",
    "        # 정책신경망과 가치신경망을 업데이트하는 함수 생성\n",
    "        self.optimizer = [self.actor_optimizer(), self.critic_optimizer()]\n",
    "    \n",
    "        self.sess = tf.InteractiveSession()\n",
    "        K.set_session(self.sess)\n",
    "        self.sess.run(tf.global_variables_initializer())\n",
    "        \n",
    "    def train(self):\n",
    "        # 쓰레드 수만큼 Agent 클래스 생성\n",
    "        agents = [Agent(self.action_size, self.state_size,\n",
    "                        [self.actor, self.critic], self.sess,\n",
    "                        self.optimizer, self.discount_factor,\n",
    "                        [self.summary_op, self.summary_placeholders,\n",
    "                         self.update_ops, self.summary_writer])\n",
    "                  for _ in range(self.threads)]\n",
    "\n",
    "        # 각 쓰레드 시작\n",
    "        for agent in agents:\n",
    "            time.sleep(1)\n",
    "            agent.start()\n",
    "\n",
    "        # 10분(600초)에 한번씩 모델을 저장\n",
    "        while True:\n",
    "            time.sleep(60 * 10)\n",
    "            self.save_model(\"./save_model/breakout_a3c\")"
   ]
  },
  {
   "cell_type": "code",
   "execution_count": null,
   "metadata": {},
   "outputs": [],
   "source": []
  },
  {
   "cell_type": "code",
   "execution_count": null,
   "metadata": {},
   "outputs": [],
   "source": []
  },
  {
   "cell_type": "code",
   "execution_count": null,
   "metadata": {},
   "outputs": [],
   "source": []
  },
  {
   "cell_type": "code",
   "execution_count": null,
   "metadata": {},
   "outputs": [],
   "source": []
  }
 ],
 "metadata": {
  "kernelspec": {
   "display_name": "Python 3",
   "language": "python",
   "name": "python3"
  },
  "language_info": {
   "codemirror_mode": {
    "name": "ipython",
    "version": 3
   },
   "file_extension": ".py",
   "mimetype": "text/x-python",
   "name": "python",
   "nbconvert_exporter": "python",
   "pygments_lexer": "ipython3",
   "version": "3.6.4"
  }
 },
 "nbformat": 4,
 "nbformat_minor": 2
}
