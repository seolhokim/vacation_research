{
 "cells": [
  {
   "cell_type": "code",
   "execution_count": null,
   "metadata": {},
   "outputs": [],
   "source": [
    "'''\n",
    "모두의 연구소 강화학습 이론\n",
    "http://www.modulabs.co.kr/RL_library/3305\n",
    "\n",
    "AC코드\n",
    "\n",
    "https://towardsdatascience.com/reinforcement-learning-w-keras-openai-actor-critic-models-f084612cfd69\n",
    "\n",
    "\n",
    "AC pytorch\n",
    "https://github.com/dgriff777/rl_a3c_pytorch\n",
    "\n",
    "\n",
    "AC tensorflow\n",
    "https://github.com/hunkim/ReinforcementZeroToAll/blob/master/10_1_Actor_Critic.ipynb\n",
    "\n",
    "A3C이론\n",
    "\n",
    "https://www.slideshare.net/WoongwonLee/rlcode-a3c\n",
    "\n",
    "레이싱 AC\n",
    "\n",
    "https://github.com/yanpanlau/DDPG-Keras-Torcs/blob/master/ActorNetwork.py\n",
    "https://yanpanlau.github.io/2016/10/11/Torcs-Keras.html\n",
    "\n",
    "actor-critic model 만들기\n",
    "\n",
    "https://github.com/rlcode/reinforcement-learning-kr/blob/master/2-cartpole/2-actor-critic/cartpole_a2c.py\n",
    "'''"
   ]
  },
  {
   "cell_type": "code",
   "execution_count": 4,
   "metadata": {},
   "outputs": [],
   "source": [
    "import numpy as np \n",
    "from keras.models import Sequential, Model\n",
    "from keras.layers import Dense, Dropout, Input\n",
    "from keras.layers.merge import Add, Multiply\n",
    "from keras.optimizers import Adam\n",
    "import keras.backend as K\n",
    "import tensorflow as tf\n",
    "import random\n",
    "from collections import deque"
   ]
  },
  {
   "cell_type": "code",
   "execution_count": 6,
   "metadata": {},
   "outputs": [],
   "source": [
    "input_layer = Input(shape = [4])\n",
    "h0 = Dense(16, activation = 'relu')(input_layer)\n",
    "h1 = Dense(16, activation = 'relu')(h0)\n",
    "result = Dense(1,activation = 'sigmoid')(h1)\n",
    "model = Model(inputs = input_layer,outputs=result)\n"
   ]
  },
  {
   "cell_type": "code",
   "execution_count": 16,
   "metadata": {},
   "outputs": [
    {
     "data": {
      "text/plain": [
       "<tf.Tensor 'dense_6/Sigmoid:0' shape=(?, 1) dtype=float32>"
      ]
     },
     "execution_count": 16,
     "metadata": {},
     "output_type": "execute_result"
    }
   ],
   "source": [
    "model.output"
   ]
  },
  {
   "cell_type": "code",
   "execution_count": 26,
   "metadata": {},
   "outputs": [
    {
     "data": {
      "text/plain": [
       "[<tf.Variable 'dense_4/kernel:0' shape=(4, 16) dtype=float32_ref>,\n",
       " <tf.Variable 'dense_4/bias:0' shape=(16,) dtype=float32_ref>,\n",
       " <tf.Variable 'dense_5/kernel:0' shape=(16, 16) dtype=float32_ref>,\n",
       " <tf.Variable 'dense_5/bias:0' shape=(16,) dtype=float32_ref>,\n",
       " <tf.Variable 'dense_6/kernel:0' shape=(16, 1) dtype=float32_ref>,\n",
       " <tf.Variable 'dense_6/bias:0' shape=(1,) dtype=float32_ref>]"
      ]
     },
     "execution_count": 26,
     "metadata": {},
     "output_type": "execute_result"
    }
   ],
   "source": [
    "model.trainable_weights"
   ]
  },
  {
   "cell_type": "code",
   "execution_count": 22,
   "metadata": {},
   "outputs": [
    {
     "data": {
      "text/plain": [
       "<tf.Tensor 'Placeholder_2:0' shape=(?, 4) dtype=float32>"
      ]
     },
     "execution_count": 22,
     "metadata": {},
     "output_type": "execute_result"
    }
   ],
   "source": [
    "action_gradient = tf.placeholder(tf.float32,[None,4])"
   ]
  },
  {
   "cell_type": "code",
   "execution_count": 21,
   "metadata": {},
   "outputs": [
    {
     "data": {
      "text/plain": [
       "[<tf.Tensor 'gradients/dense_4/MatMul_grad/MatMul_1:0' shape=(4, 16) dtype=float32>,\n",
       " <tf.Tensor 'gradients/dense_4/BiasAdd_grad/BiasAddGrad:0' shape=(16,) dtype=float32>,\n",
       " <tf.Tensor 'gradients/dense_5/MatMul_grad/MatMul_1:0' shape=(16, 16) dtype=float32>,\n",
       " <tf.Tensor 'gradients/dense_5/BiasAdd_grad/BiasAddGrad:0' shape=(16,) dtype=float32>,\n",
       " <tf.Tensor 'gradients/dense_6/MatMul_grad/MatMul_1:0' shape=(16, 1) dtype=float32>,\n",
       " <tf.Tensor 'gradients/dense_6/BiasAdd_grad/BiasAddGrad:0' shape=(1,) dtype=float32>]"
      ]
     },
     "execution_count": 21,
     "metadata": {},
     "output_type": "execute_result"
    }
   ],
   "source": [
    "tf.gradients(model.output,model.trainable_weights, action_gradient)"
   ]
  },
  {
   "cell_type": "code",
   "execution_count": 23,
   "metadata": {},
   "outputs": [
    {
     "data": {
      "text/plain": [
       "[<tf.Tensor 'gradients_1/dense_4/MatMul_grad/MatMul_1:0' shape=(4, 16) dtype=float32>,\n",
       " <tf.Tensor 'gradients_1/dense_4/BiasAdd_grad/BiasAddGrad:0' shape=(16,) dtype=float32>,\n",
       " <tf.Tensor 'gradients_1/dense_5/MatMul_grad/MatMul_1:0' shape=(16, 16) dtype=float32>,\n",
       " <tf.Tensor 'gradients_1/dense_5/BiasAdd_grad/BiasAddGrad:0' shape=(16,) dtype=float32>,\n",
       " <tf.Tensor 'gradients_1/dense_6/MatMul_grad/MatMul_1:0' shape=(16, 1) dtype=float32>,\n",
       " <tf.Tensor 'gradients_1/dense_6/BiasAdd_grad/BiasAddGrad:0' shape=(1,) dtype=float32>]"
      ]
     },
     "execution_count": 23,
     "metadata": {},
     "output_type": "execute_result"
    }
   ],
   "source": [
    "tf.gradients(model.output,model.trainable_weights, -action_gradient)"
   ]
  },
  {
   "cell_type": "code",
   "execution_count": null,
   "metadata": {},
   "outputs": [],
   "source": [
    "x = tf.constant(1.0)\n",
    "b = tf.constant(2.0)\n",
    "y = x + b"
   ]
  },
  {
   "cell_type": "code",
   "execution_count": null,
   "metadata": {},
   "outputs": [],
   "source": [
    "class A3C_model:\n",
    "    def __init__(self):\n",
    "        self.observation_space = 0\n",
    "        self.action_space = 0\n",
    "\n",
    "        self.learning_rate = 0.001\n",
    "        self.epsilon = 1.0\n",
    "        self.epsilon_decay = .995\n",
    "        self.gamma = .95\n",
    "        self.tau   = .125\n",
    "        self.memory = deque(maxlen=2000)\n",
    "\n",
    "        self.actor_state_input, self.actor_model = self.create_actor_model()\n",
    "        _, self.target_actor_model = self.create_actor_model()\n",
    "\n",
    "        self.actor_critic_grad = tf.placeholder(tf.float32, \\ \n",
    "                [None, self.env.action_space.shape[0]]) \n",
    "\n",
    "        actor_model_weights = self.actor_model.trainable_weights\n",
    "\n",
    "        self.actor_grads = tf.gradients(self.actor_model.output, \\\n",
    "                actor_model_weights, -self.actor_critic_grad)\n",
    "\n",
    "        grads = zip(self.actor_grads, actor_model_weights)\n",
    "\n",
    "        self.optimize =  tf.train.AdamOptimizer(\\\n",
    "                self.learning_rate).apply_gradients(grads)\n",
    "    def create_actor_model(setlf):\n",
    "        state_input = Input(shape=self.observation_space)\n",
    "        h1 = Dense(24, activation='relu')(state_input)\n",
    "        h2 = Dense(48, activation='relu')(h1)\n",
    "        h3 = Dense(24, activation='relu')(h2)\n",
    "        output = Dense(self.action_space,  \n",
    "            activation='relu')(h3)\n",
    "        \n",
    "        model = Model(input=state_input, output=output)\n",
    "        adam  = Adam(lr=0.001)\n",
    "        model.compile(loss=\"mse\", optimizer=adam)\n",
    "        return state_input, model\n",
    "    \n",
    "    "
   ]
  }
 ],
 "metadata": {
  "kernelspec": {
   "display_name": "Python 3",
   "language": "python",
   "name": "python3"
  },
  "language_info": {
   "codemirror_mode": {
    "name": "ipython",
    "version": 3
   },
   "file_extension": ".py",
   "mimetype": "text/x-python",
   "name": "python",
   "nbconvert_exporter": "python",
   "pygments_lexer": "ipython3",
   "version": "3.6.4"
  }
 },
 "nbformat": 4,
 "nbformat_minor": 2
}
