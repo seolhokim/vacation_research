{
 "cells": [
  {
   "cell_type": "code",
   "execution_count": null,
   "metadata": {},
   "outputs": [],
   "source": [
    "#what is _make_predict_function()????\n",
    "\n",
    "#참고\n",
    "\n",
    "#https://github.com/jaara/AI-blog/blob/master/CartPole-A3C.py\n",
    "\n",
    "\n",
    "#gradient관련\n",
    "\n",
    "'''\n",
    "https://wikidocs.net/8281\n",
    "http://blog.naver.com/PostView.nhn?blogId=atelierjpro&logNo=220978848453&parentCategoryNo=&categoryNo=&viewDate=&isShowPopularPosts=false&from=postView\n",
    "\n",
    "'''"
   ]
  },
  {
   "cell_type": "code",
   "execution_count": 141,
   "metadata": {},
   "outputs": [],
   "source": []
  },
  {
   "cell_type": "code",
   "execution_count": 2,
   "metadata": {},
   "outputs": [
    {
     "name": "stderr",
     "output_type": "stream",
     "text": [
      "C:\\Users\\sh2\\Anaconda3\\lib\\site-packages\\h5py\\__init__.py:36: FutureWarning: Conversion of the second argument of issubdtype from `float` to `np.floating` is deprecated. In future, it will be treated as `np.float64 == np.dtype(float).type`.\n",
      "  from ._conv import register_converters as _register_converters\n",
      "Using TensorFlow backend.\n"
     ]
    }
   ],
   "source": [
    "import numpy as np\n",
    "import random\n",
    "from keras.layers import Dense,merge\n",
    "from keras.models import Sequential ,Input, Model\n",
    "from keras.optimizers import Adam\n",
    "from keras import backend as K\n",
    "import tensorflow as tf"
   ]
  },
  {
   "cell_type": "code",
   "execution_count": 139,
   "metadata": {},
   "outputs": [],
   "source": [
    "GAMMA = 0.99\n",
    "N_STEP_RETURN = 8\n",
    "GAMMA_N = GAMMA ** N_STEP_RETURN\n",
    "class Agent:\n",
    "    def __init__(self):\n",
    "        self.memory = []\n",
    "        \n",
    "        self.epsilon = 1\n",
    "        self.decaying_per = 0.999\n",
    "        \n",
    "        self.R = 0\n",
    "        \n",
    "    def getEpsilon(self):\n",
    "        self.epsilon *= self.decaying_per\n",
    "        return self.epsilon\n",
    "        \n",
    "    def act(self,state,actor):\n",
    "        if(random.random() > self.getEpsilon):\n",
    "            return random.randint(0,action_size-1)\n",
    "        else :\n",
    "            state = np.array([state])\n",
    "            percent = actor.predict(state)[0]\n",
    "                \n",
    "            action = np.random.choice(action_size,p=percent)\n",
    "            return action\n",
    "    \n",
    "    def train(self, state, action, reward, next_state)\n",
    "        def get_sample(memory,n):\n",
    "            state, action, _, _ =memory[0]\n",
    "            _, _, _, next_state = memory[n-1]\n",
    "            return state, action, self.R, next_state\n",
    "        \n",
    "        action_onehot = np.zeros(action_size)\n",
    "        action_onehot[action] = 1\n",
    "        \n",
    "        self.memory.append((state,action_onehot,reward,next_state))\n",
    "        \n",
    "        self.R = (self.R + r * GAMMA_N) / GAMMA\n",
    "        \n",
    "        if next_state is None :\n",
    "            while"
   ]
  },
  {
   "cell_type": "code",
   "execution_count": 173,
   "metadata": {},
   "outputs": [],
   "source": [
    "state_size = 4\n",
    "action_size = 2\n",
    "reward_size = 1"
   ]
  },
  {
   "cell_type": "code",
   "execution_count": null,
   "metadata": {},
   "outputs": [],
   "source": [
    "class ActorCriticModel:\n",
    "    def __init__(self):\n",
    "        pass\n",
    "        \n",
    "    "
   ]
  },
  {
   "cell_type": "code",
   "execution_count": 174,
   "metadata": {},
   "outputs": [],
   "source": [
    "LOSS_V = .5 # v loss coefficient\n",
    "LOSS_ENTROPY = .01 # entropy coefficient\n",
    "brain_lr = 0.005\n",
    "class Brain:\n",
    "    def __init__(self):\n",
    "        #먼저 기존 tensorflow 에서 세션을 만든다. \n",
    "        #그리고 그것을 keras에 등록시켜 keras가 해당 세션을 사용할 수 있도록 한다.\n",
    "        self.session = tf.Session()\n",
    "        K.set_session(self.session)\n",
    "        #직접 만든 tensor를 쓰기위해선 initialization을 해야함\n",
    "        K.manual_variable_initialization(True)\n",
    "    \n",
    "        #policy 를 actor_model을 통해 근사시킴\n",
    "        self.model = self.actor_model()\n",
    "        self.object_function = self.build_object_function(self.model)\n",
    "        \n",
    "    def actor_model(self):\n",
    "        input_layer = Input(batch_shape = (None,state_size))\n",
    "        h1 = Dense(32, activation = 'relu')(input_layer)\n",
    "        action = Dense(action_size,activation = 'softmax')(h1)\n",
    "        action_value = Dense(1,activation='linear')(h1)\n",
    "        model = Model(inputs = input_layer , outputs=[action,action_value])\n",
    "        \n",
    "        return model\n",
    "    \n",
    "    def build_object_function(self,model):\n",
    "        state_tensor = K.placeholder(dtype = 'float32', shape = (None,state_size))\n",
    "        action_tensor = K.placeholder(dtype = 'float32',shape = (None,action_size))\n",
    "        reward_tensor = K.placeholder(dtype = 'float32',shape=(None,reward_size))\n",
    "        \n",
    "        probability, value = model(state_tensor)\n",
    "        \n",
    "        log_probability = K.log(K.sum(probability * action_tensor\\\n",
    "                                             ,keepdims=True)+1e-10)\n",
    "        \n",
    "        advantage = reward_tensor - value\n",
    "        \n",
    "        loss_policy = - log_probability * K.stop_gradient(advantage)\n",
    "        loss_value = K.constant(LOSS_V) * K.square(advantage)\n",
    "        entropy = K.constant(LOSS_ENTROPY) * K.sum(probability * K.log(probability+1e-10),\\\n",
    "                                             axis = 1, keepdims = True)\n",
    "        \n",
    "        loss_total = K.mean(loss_policy + loss_value + entropy)\n",
    "        \n",
    "        optimizer = Adam(lr = brain_lr)\n",
    "        updates = optimizer.get_updates(model.trainable_weights,[],loss_total)\n",
    "        train = K.function([state_tensor,action_tensor,reward_tensor],[],updates=updates)\n",
    "        return state_tensor, action_tensor, reward_tensor, model\n",
    "    \n",
    "    def optimize(self):\n",
    "        pass\n",
    "    \n",
    "    def train_push(self,s,a,r,s_):\n",
    "        pass\n",
    "    \n",
    "    def predict(self, s): #고쳐아함\n",
    "        with self.default_graph.as_default():\n",
    "            p, v = self.model.predict(s)\n",
    "            return p, v\n",
    "\n",
    "    def predict_p(self, s): #고쳐아함\n",
    "        with self.default_graph.as_default():\n",
    "            p, v = self.model.predict(s)\n",
    "            return p\n",
    "\n",
    "    def predict_v(self, s): #고쳐아함\n",
    "        with self.default_graph.as_default():\n",
    "            p, v = self.model.predict(s)\n",
    "            return v"
   ]
  },
  {
   "cell_type": "code",
   "execution_count": null,
   "metadata": {},
   "outputs": [],
   "source": [
    "EPISODES = 100\n",
    "\n",
    "\n",
    "scores, episodes = [], []"
   ]
  },
  {
   "cell_type": "code",
   "execution_count": 140,
   "metadata": {},
   "outputs": [],
   "source": [
    "agent = Agent()"
   ]
  },
  {
   "cell_type": "code",
   "execution_count": 176,
   "metadata": {},
   "outputs": [
    {
     "data": {
      "text/plain": [
       "(<tf.Tensor 'Placeholder_39:0' shape=(?, 4) dtype=float32>,\n",
       " <tf.Tensor 'Placeholder_40:0' shape=(?, 2) dtype=float32>,\n",
       " <tf.Tensor 'Placeholder_41:0' shape=(?, 1) dtype=float32>,\n",
       " <keras.engine.training.Model at 0x21d7b7c90f0>)"
      ]
     },
     "execution_count": 176,
     "metadata": {},
     "output_type": "execute_result"
    }
   ],
   "source": [
    "brain = Brain()\n",
    "brain.build_object_function(brain.model)"
   ]
  },
  {
   "cell_type": "code",
   "execution_count": null,
   "metadata": {},
   "outputs": [],
   "source": [
    "env = gym.make('CartPole-v1')\n",
    "\n",
    "state_size = env.observation_space.shape[0]\n",
    "action_size = env.action_space.n\n",
    "def runEpisode():\n",
    "    state = env.reset()\n",
    "    score =0.\n",
    "    while True:\n",
    "        #처리시간길면 시간 맞춰줄수있음.\n",
    "        \n",
    "        if rendering:\n",
    "            env.render()\n",
    "        action = agent.act(state,agent)\n",
    "            \n",
    "        next_state, reward, done, info = env.step(action)\n",
    "        next_state = np.reshape(next_state, [1, state_size])\n",
    "        reward = reward if not done or score == 499 else -100\n",
    "        \n",
    "        if done :\n",
    "            next_state = None\n",
    "            \n",
    "        #agent.train(state,action,reward,next_state)\n",
    "            \n",
    "        state = next_state\n",
    "        score += reward\n",
    "            \n",
    "        if done:\n",
    "            break\n",
    "        print(\"Total Score:\", score)"
   ]
  },
  {
   "cell_type": "code",
   "execution_count": null,
   "metadata": {},
   "outputs": [],
   "source": []
  },
  {
   "cell_type": "code",
   "execution_count": null,
   "metadata": {},
   "outputs": [],
   "source": []
  },
  {
   "cell_type": "code",
   "execution_count": null,
   "metadata": {},
   "outputs": [],
   "source": []
  },
  {
   "cell_type": "code",
   "execution_count": null,
   "metadata": {},
   "outputs": [],
   "source": []
  },
  {
   "cell_type": "code",
   "execution_count": null,
   "metadata": {},
   "outputs": [],
   "source": [
    "\n"
   ]
  },
  {
   "cell_type": "code",
   "execution_count": null,
   "metadata": {},
   "outputs": [],
   "source": [
    "\n",
    "\n",
    "\n"
   ]
  }
 ],
 "metadata": {
  "kernelspec": {
   "display_name": "Python 3",
   "language": "python",
   "name": "python3"
  },
  "language_info": {
   "codemirror_mode": {
    "name": "ipython",
    "version": 3
   },
   "file_extension": ".py",
   "mimetype": "text/x-python",
   "name": "python",
   "nbconvert_exporter": "python",
   "pygments_lexer": "ipython3",
   "version": "3.6.4"
  }
 },
 "nbformat": 4,
 "nbformat_minor": 2
}
