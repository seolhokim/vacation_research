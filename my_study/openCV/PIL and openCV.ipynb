{
 "cells": [
  {
   "cell_type": "code",
   "execution_count": 4,
   "metadata": {},
   "outputs": [],
   "source": [
    "#wx가 더 나을수도있다고함\n",
    "#https://medium.com/acing-ai/how-i-build-an-ai-to-play-dino-run-e37f37bdf153"
   ]
  },
  {
   "cell_type": "code",
   "execution_count": 3,
   "metadata": {},
   "outputs": [],
   "source": [
    "from PIL import ImageGrab\n",
    "import numpy as np\n",
    "import cv2"
   ]
  },
  {
   "cell_type": "code",
   "execution_count": 16,
   "metadata": {},
   "outputs": [],
   "source": [
    "def grab_screen(_driver = None):\n",
    "    #bbox = region of interest on the entire screen\n",
    "    screen =  np.array(ImageGrab.grab(bbox=(40,180,440,400))) \n",
    "    image = process_img(screen)#processing image as required\n",
    "    return image\n",
    "def process_img(image):\n",
    "    #game is already in grey scale canvas, canny to get only edges and reduce unwanted objects(clouds)\n",
    "    # resale image dimensions\n",
    "    image = cv2.resize(image, (0,0), fx = 0.15, fy = 0.10) \n",
    "    #crop out the dino agent from the frame\n",
    "    image = image[2:38,10:50] #img[y:y+h, x:x+w] \n",
    "    image = cv2.Canny(image, threshold1 = 100, threshold2 = 200) #apply the canny edge detection\n",
    "    return  image "
   ]
  },
  {
   "cell_type": "code",
   "execution_count": 17,
   "metadata": {},
   "outputs": [
    {
     "data": {
      "text/plain": [
       "array([[255, 255,   0,   0,   0,   0,   0,   0, 255, 255, 255, 255, 255,\n",
       "          0,   0, 255, 255,   0,   0,   0, 255, 255, 255,   0,   0,   0,\n",
       "          0,   0,   0,   0,   0,   0,   0,   0, 255, 255, 255,   0, 255,\n",
       "        255],\n",
       "       [  0,   0,   0,   0,   0,   0,   0,   0,   0,   0,   0,   0,   0,\n",
       "          0,   0,   0,   0,   0,   0,   0,   0,   0,   0,   0,   0,   0,\n",
       "          0,   0,   0,   0,   0,   0,   0,   0,   0,   0,   0,   0,   0,\n",
       "          0],\n",
       "       [  0,   0,   0,   0,   0,   0,   0,   0,   0,   0,   0,   0,   0,\n",
       "          0,   0,   0,   0,   0,   0,   0,   0,   0,   0,   0,   0,   0,\n",
       "          0,   0,   0,   0,   0,   0,   0,   0,   0,   0,   0,   0,   0,\n",
       "          0],\n",
       "       [  0,   0,   0,   0,   0,   0,   0,   0,   0,   0,   0,   0,   0,\n",
       "          0,   0,   0,   0,   0,   0,   0,   0,   0,   0,   0,   0,   0,\n",
       "          0,   0,   0,   0,   0,   0,   0,   0,   0,   0,   0,   0,   0,\n",
       "          0],\n",
       "       [  0,   0,   0,   0,   0,   0,   0,   0,   0,   0,   0,   0,   0,\n",
       "          0,   0,   0,   0,   0,   0,   0,   0,   0,   0,   0,   0,   0,\n",
       "          0,   0,   0,   0,   0,   0,   0,   0,   0,   0,   0,   0,   0,\n",
       "          0],\n",
       "       [  0,   0,   0,   0,   0,   0,   0,   0,   0,   0,   0,   0,   0,\n",
       "          0,   0,   0,   0, 255, 255, 255, 255, 255, 255, 255,   0,   0,\n",
       "          0,   0,   0,   0,   0,   0,   0,   0,   0,   0,   0,   0,   0,\n",
       "          0],\n",
       "       [255,   0,   0, 255,   0,   0, 255, 255,   0,   0, 255, 255,   0,\n",
       "        255, 255, 255,   0,   0,   0,   0,   0,   0,   0, 255,   0, 255,\n",
       "          0,   0, 255, 255, 255,   0,   0, 255, 255, 255,   0, 255, 255,\n",
       "        255],\n",
       "       [255,   0, 255,   0,   0,   0,   0, 255,   0,   0, 255,   0,   0,\n",
       "          0,   0,   0,   0, 255, 255, 255, 255, 255, 255, 255,   0, 255,\n",
       "          0,   0, 255,   0, 255,   0,   0, 255,   0, 255,   0, 255,   0,\n",
       "        255],\n",
       "       [  0,   0, 255, 255,   0, 255, 255,   0,   0,   0, 255, 255,   0,\n",
       "          0, 255,   0,   0,   0,   0,   0,   0,   0,   0,   0, 255,   0,\n",
       "          0, 255, 255, 255,   0,   0,   0, 255, 255, 255,   0, 255, 255,\n",
       "        255],\n",
       "       [  0,   0,   0,   0,   0,   0,   0,   0,   0,   0,   0,   0,   0,\n",
       "          0,   0,   0,   0,   0,   0,   0,   0,   0,   0,   0,   0,   0,\n",
       "          0,   0,   0,   0,   0,   0,   0,   0,   0,   0,   0,   0,   0,\n",
       "          0],\n",
       "       [  0,   0,   0,   0,   0,   0,   0,   0,   0,   0,   0,   0,   0,\n",
       "          0,   0,   0,   0,   0,   0,   0,   0,   0,   0,   0,   0,   0,\n",
       "          0,   0,   0,   0,   0,   0,   0,   0,   0,   0,   0,   0,   0,\n",
       "          0],\n",
       "       [  0,   0,   0,   0,   0,   0,   0,   0,   0,   0,   0,   0,   0,\n",
       "          0,   0,   0,   0,   0,   0,   0,   0,   0,   0,   0,   0,   0,\n",
       "          0,   0,   0,   0,   0,   0,   0,   0,   0,   0,   0,   0,   0,\n",
       "          0],\n",
       "       [  0,   0,   0,   0,   0,   0,   0,   0,   0,   0,   0,   0,   0,\n",
       "          0,   0,   0,   0,   0,   0,   0,   0,   0,   0,   0,   0,   0,\n",
       "          0,   0,   0,   0,   0,   0,   0,   0,   0,   0,   0,   0,   0,\n",
       "          0],\n",
       "       [  0,   0,   0,   0,   0,   0,   0,   0,   0,   0,   0,   0,   0,\n",
       "          0,   0,   0,   0,   0,   0,   0,   0,   0,   0,   0,   0,   0,\n",
       "          0,   0,   0,   0,   0,   0,   0,   0,   0,   0,   0,   0,   0,\n",
       "          0],\n",
       "       [  0,   0,   0,   0,   0,   0,   0,   0,   0,   0,   0,   0,   0,\n",
       "          0,   0,   0,   0,   0,   0,   0,   0,   0,   0, 255, 255, 255,\n",
       "          0,   0,   0,   0,   0,   0,   0,   0,   0,   0,   0,   0,   0,\n",
       "          0],\n",
       "       [  0, 255, 255,   0,   0,   0,   0,   0,   0,   0,   0, 255, 255,\n",
       "          0,   0,   0,   0,   0,   0,   0,   0,   0,   0, 255,   0, 255,\n",
       "          0,   0, 255, 255, 255,   0,   0,   0,   0,   0,   0,   0,   0,\n",
       "          0],\n",
       "       [  0, 255,   0, 255,   0,   0,   0,   0,   0,   0,   0, 255,   0,\n",
       "        255,   0,   0,   0,   0,   0,   0,   0,   0,   0, 255,   0, 255,\n",
       "          0,   0, 255,   0, 255,   0,   0,   0,   0,   0,   0,   0,   0,\n",
       "          0],\n",
       "       [255, 255, 255,   0, 255, 255,   0,   0, 255, 255,   0, 255, 255,\n",
       "        255,   0, 255, 255, 255,   0,   0,   0,   0,   0, 255, 255, 255,\n",
       "          0,   0, 255,   0, 255, 255, 255, 255, 255, 255, 255, 255, 255,\n",
       "          0],\n",
       "       [  0,   0, 255,   0,   0, 255,   0,   0, 255,   0, 255,   0,   0,\n",
       "          0,   0, 255,   0, 255,   0,   0,   0,   0,   0, 255,   0, 255,\n",
       "          0,   0,   0, 255,   0,   0,   0,   0, 255,   0,   0,   0, 255,\n",
       "          0],\n",
       "       [255, 255, 255, 255, 255, 255,   0,   0, 255, 255, 255,   0,   0,\n",
       "          0,   0, 255, 255, 255,   0,   0,   0,   0,   0, 255, 255, 255,\n",
       "          0,   0,   0, 255, 255, 255, 255, 255, 255, 255, 255, 255, 255,\n",
       "          0]], dtype=uint8)"
      ]
     },
     "execution_count": 17,
     "metadata": {},
     "output_type": "execute_result"
    }
   ],
   "source": [
    "grab_screen()"
   ]
  },
  {
   "cell_type": "code",
   "execution_count": 21,
   "metadata": {},
   "outputs": [],
   "source": [
    "def grab_screen(_driver = None):\n",
    "    #bbox = region of interest on the entire screen\n",
    "    screen =  np.array((ImageGrab.grab(bbox=(100,200,300,400))) )\n",
    "    #image = process_img(screen)#processing image as required\n",
    "    print(screen)\n",
    "    cv2.imshow(\"yes\",screen)\n",
    "    #return image\n",
    "def process_img(image):\n",
    "    #game is already in grey scale canvas, canny to get only edges and reduce unwanted objects(clouds)\n",
    "    # resale image dimensions\n",
    "    image = cv2.resize(image, (0,0), fx = 0.15, fy = 0.10) "
   ]
  },
  {
   "cell_type": "code",
   "execution_count": 22,
   "metadata": {},
   "outputs": [
    {
     "name": "stdout",
     "output_type": "stream",
     "text": [
      "[[[  0  29  61]\n",
      "  [  0  29  61]\n",
      "  [  0  29  61]\n",
      "  ...\n",
      "  [115  72  21]\n",
      "  [102  60  18]\n",
      "  [102  60  18]]\n",
      "\n",
      " [[  1  30  62]\n",
      "  [  1  30  62]\n",
      "  [  1  30  62]\n",
      "  ...\n",
      "  [113  70  20]\n",
      "  [102  60  18]\n",
      "  [105  63  18]]\n",
      "\n",
      " [[  1  30  62]\n",
      "  [  1  30  62]\n",
      "  [  1  30  62]\n",
      "  ...\n",
      "  [112  69  20]\n",
      "  [102  60  18]\n",
      "  [114  72  20]]\n",
      "\n",
      " ...\n",
      "\n",
      " [[  0  31  62]\n",
      "  [  0  31  62]\n",
      "  [  0  31  62]\n",
      "  ...\n",
      "  [255 255 255]\n",
      "  [255 255 255]\n",
      "  [255 255 255]]\n",
      "\n",
      " [[  0  31  62]\n",
      "  [  0  31  62]\n",
      "  [  0  31  62]\n",
      "  ...\n",
      "  [255 255 255]\n",
      "  [255 255 255]\n",
      "  [255 255 255]]\n",
      "\n",
      " [[  0  31  62]\n",
      "  [  0  31  62]\n",
      "  [  0  31  62]\n",
      "  ...\n",
      "  [255 255 255]\n",
      "  [255 255 255]\n",
      "  [255 255 255]]]\n"
     ]
    }
   ],
   "source": [
    "grab_screen()"
   ]
  }
 ],
 "metadata": {
  "kernelspec": {
   "display_name": "Python 3",
   "language": "python",
   "name": "python3"
  },
  "language_info": {
   "codemirror_mode": {
    "name": "ipython",
    "version": 3
   },
   "file_extension": ".py",
   "mimetype": "text/x-python",
   "name": "python",
   "nbconvert_exporter": "python",
   "pygments_lexer": "ipython3",
   "version": "3.6.4"
  }
 },
 "nbformat": 4,
 "nbformat_minor": 2
}
