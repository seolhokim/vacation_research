{
 "cells": [
  {
   "cell_type": "code",
   "execution_count": null,
   "metadata": {},
   "outputs": [],
   "source": [
    "#layer를 한층만든다고 생각하고 개발을 하면될것같다."
   ]
  },
  {
   "cell_type": "code",
   "execution_count": null,
   "metadata": {},
   "outputs": [],
   "source": []
  },
  {
   "cell_type": "code",
   "execution_count": null,
   "metadata": {},
   "outputs": [],
   "source": []
  },
  {
   "cell_type": "code",
   "execution_count": null,
   "metadata": {},
   "outputs": [],
   "source": [
    "class MDN:\n",
    "    def __init__(self, n_hidden, n_gaussian,input_shape):\n",
    "        self.input_shape = input_shape\n",
    "        self.n_hidden = n_hidden\n",
    "        self.n_gaussian = n_gaussian\n",
    "        self.mdn = self.mdn_layer()\n",
    "    def mdn_layer(self):\n",
    "        input_layer = Input(batch_shape = (None,self.input_shape))\n",
    "        h1 = Dense(self.n_hidden,activation = 'relu')(input_layer)\n",
    "        h2 = Dense(self.n_hidden,activation = 'relu')(h1)\n",
    "        pi = Dense(self.n_gaussian,activation = 'softmax')(h2)\n",
    "        sigma = Dense(self.n_gaussian, activation=K.exp)(h2)\n",
    "        mu = Dense(self.n_gaussian)(h2)\n",
    "        model = Model(inputs = input_layer , outputs = [pi,sigma,mu])\n",
    "        return model\n",
    "    def :\n",
    "        pass"
   ]
  },
  {
   "cell_type": "code",
   "execution_count": null,
   "metadata": {},
   "outputs": [],
   "source": []
  },
  {
   "cell_type": "code",
   "execution_count": null,
   "metadata": {},
   "outputs": [],
   "source": []
  },
  {
   "cell_type": "code",
   "execution_count": null,
   "metadata": {},
   "outputs": [],
   "source": []
  },
  {
   "cell_type": "code",
   "execution_count": null,
   "metadata": {},
   "outputs": [],
   "source": []
  },
  {
   "cell_type": "code",
   "execution_count": null,
   "metadata": {},
   "outputs": [],
   "source": []
  },
  {
   "cell_type": "code",
   "execution_count": null,
   "metadata": {},
   "outputs": [],
   "source": []
  }
 ],
 "metadata": {
  "kernelspec": {
   "display_name": "Python 3",
   "language": "python",
   "name": "python3"
  },
  "language_info": {
   "codemirror_mode": {
    "name": "ipython",
    "version": 3
   },
   "file_extension": ".py",
   "mimetype": "text/x-python",
   "name": "python",
   "nbconvert_exporter": "python",
   "pygments_lexer": "ipython3",
   "version": "3.6.4"
  }
 },
 "nbformat": 4,
 "nbformat_minor": 2
}
