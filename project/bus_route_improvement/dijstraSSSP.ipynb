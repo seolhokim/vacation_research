{
 "cells": [
  {
   "cell_type": "code",
   "execution_count": 447,
   "metadata": {},
   "outputs": [],
   "source": [
    "#사실 dictionary로 Vertex edge 구조를 만들어도 됨.\n",
    "#하지만 class 로 vertex edge를 만들면 더많은 기능을 사용가능\n"
   ]
  },
  {
   "cell_type": "code",
   "execution_count": 1,
   "metadata": {},
   "outputs": [],
   "source": [
    "import numpy as np \n",
    "import queue"
   ]
  },
  {
   "cell_type": "code",
   "execution_count": 2,
   "metadata": {},
   "outputs": [],
   "source": [
    "class Vertex:\n",
    "    set_of_all_vertice = []\n",
    "    def __init__(self,name):\n",
    "        self.edge = None\n",
    "        self.name = name\n",
    "        self.edgeList = []\n",
    "        Vertex.set_of_all_vertice.append(self)\n",
    "    def __str__(self):\n",
    "        return self.name\n",
    "    \n",
    "    def makeEdge(self,vertex,weight):\n",
    "        edge = Edge(vertex.name,weight)\n",
    "        return edge\n",
    "    \n",
    "    def setEdge(self, vertex,weight=1):\n",
    "        edge = self.makeEdge(vertex,weight)\n",
    "        if self.getEdge() == None:\n",
    "            self.inputEdge(edge)\n",
    "        else :\n",
    "            temp = self.getEdge()\n",
    "            self.inputEdge(edge)\n",
    "            edge.setNextEdge(temp)\n",
    "        edge.setHeader()\n",
    "        \n",
    "    def incidentEdges(self):\n",
    "        for v in self.edgeList:\n",
    "            print(v,end=' ')\n",
    "    \n",
    "    def incidentEdgeList(self):\n",
    "        return self.edgeList\n",
    "    \n",
    "    def incidentEdges_calcul(self):\n",
    "        self.edgeList = []\n",
    "        if not self.hasEdge():\n",
    "            return self.edgeList\n",
    "        else :\n",
    "            edge = self.getEdge()\n",
    "            \n",
    "            self.edgeList.append(edge)\n",
    "            while edge.getNextEdge() != None:\n",
    "                edge = edge.getNextEdge()\n",
    "                self.edgeList.append(edge)\n",
    "            return self.edgeList\n",
    "    \n",
    "    def getEdge(self):\n",
    "        return self.edge\n",
    "    \n",
    "    def hasEdge(self):\n",
    "        return self.edge != None\n",
    "    \n",
    "    def inputEdge(self,edge):\n",
    "        self.edge = edge\n",
    "    \n",
    "    def areAdjacent(self,vertex):\n",
    "        '''\n",
    "        incidentEdges_calcul() 한뒤 사용해야함\n",
    "        '''\n",
    "        found = False\n",
    "        for ver in self.edgeList:\n",
    "            if(ver == vertex):\n",
    "                found = True\n",
    "        return found\n",
    "    \n",
    "    def numberOfEdges(self):\n",
    "        return len(self.edgeList)\n",
    "    \n",
    "    def minLengthEdge(self):\n",
    "        '''\n",
    "        incidentEdges_calcul() 한뒤사용\n",
    "        '''\n",
    "        min_vertex = self.edge\n",
    "        min_value = 0\n",
    "        if self.hasEdge():\n",
    "            min_value = self.edgeList[0].getWeight()\n",
    "            for edge in self.edgeList:\n",
    "                if min_value > edge.getWeight():\n",
    "                    min_value = edge.getWeight()\n",
    "                    min_vertex = edge\n",
    "        return (edge, min_value)\n",
    "    \"\"\"\n",
    "    \n",
    "    def addWeight(self,num):\n",
    "        if not hasEdge :\n",
    "            return\n",
    "        else :\n",
    "            \n",
    "    \"\"\""
   ]
  },
  {
   "cell_type": "code",
   "execution_count": 3,
   "metadata": {},
   "outputs": [],
   "source": [
    "class Edge:\n",
    "    #set_of_all_edges = []\n",
    "    def __init__(self,name,weight):\n",
    "        #self.vertex = None\n",
    "        self.next_edge = None\n",
    "        self.head = False\n",
    "        self.tail = False\n",
    "        self.name = name\n",
    "        self.weight = weight\n",
    "        #Edge.set_of_all_edges.append(self)\n",
    "    def __str__(self):\n",
    "        return self.name\n",
    "\n",
    "    def setHeader(self):\n",
    "        self.head = True\n",
    "        \n",
    "    def setTail(self):\n",
    "        self.tail = True\n",
    "        \n",
    "    def getNextEdge(self):\n",
    "        return self.next_edge\n",
    "    \n",
    "    def setNextEdge(self,edge):\n",
    "        self.next_edge = edge\n",
    "        self.tail = False\n",
    "        edge.setTail()\n",
    "        \n",
    "    def setVertex(self, vertex):\n",
    "        self.vertex = vertex\n",
    "    \n",
    "    def getWeight(self):\n",
    "        return self.weight\n",
    "    \n",
    "    def addWeight(self,num):\n",
    "        self.weight += num\n",
    "    \n",
    "    \n",
    "    "
   ]
  },
  {
   "cell_type": "code",
   "execution_count": 4,
   "metadata": {},
   "outputs": [],
   "source": [
    "a = Vertex(\"a\")\n",
    "b = Vertex(\"b\")\n",
    "c = Vertex(\"c\")\n",
    "d = Vertex(\"d\")\n",
    "e = Vertex(\"e\")\n",
    "f = Vertex(\"f\")\n",
    "g = Vertex(\"g\")\n",
    "h = Vertex(\"h\")\n",
    "i = Vertex(\"i\")"
   ]
  },
  {
   "cell_type": "code",
   "execution_count": 5,
   "metadata": {},
   "outputs": [],
   "source": [
    "a.setEdge(b,0.3)\n",
    "a.setEdge(d,0.2)\n",
    "\n",
    "b.setEdge(a,0.5)\n",
    "b.setEdge(e,0.4)\n",
    "b.setEdge(c,0.7)\n",
    "\n",
    "c.setEdge(b,0.2)\n",
    "c.setEdge(f,0.1)\n",
    "\n",
    "d.setEdge(a,0.1)\n",
    "d.setEdge(e,0.4)\n",
    "d.setEdge(g,0.7)\n",
    "\n",
    "e.setEdge(b,0.3)\n",
    "e.setEdge(d,0.1)\n",
    "e.setEdge(h,0.3)\n",
    "e.setEdge(f,0.2)\n",
    "\n",
    "f.setEdge(c,0.7)\n",
    "f.setEdge(e,0.5)\n",
    "f.setEdge(i,0.1)\n",
    "\n",
    "g.setEdge(d,0.9)\n",
    "g.setEdge(h,0.2)\n",
    "\n",
    "h.setEdge(g,0.5)\n",
    "h.setEdge(e,0.6)\n",
    "h.setEdge(i,0.6)\n",
    "\n",
    "i.setEdge(h,0.3)\n",
    "i.setEdge(f,0.7)"
   ]
  },
  {
   "cell_type": "code",
   "execution_count": 624,
   "metadata": {},
   "outputs": [],
   "source": [
    "def test_1(edge_list, min_edge):\n",
    "    \n",
    "    for i,edge in enumerate(edge_list):\n",
    "        if edge.name == min_edge :\n",
    "            return (i,edge)\n",
    "        else :\n",
    "            continue\n",
    "\n",
    "def add_fringe(vertex,fringe_set,weight = 0):\n",
    "    vertex.incidentEdges_calcul()\n",
    "    lst = vertex.incidentEdgeList()\n",
    "    for edge in lst:\n",
    "        #print(\"edge.getWeight(),edge.name\",edge.getWeight(),edge.name)\n",
    "        edge.addWeight(weight)\n",
    "        #print(\"edge.getWeight(),edge.name\",edge.getWeight(),edge.name)\n",
    "        fringe_set.put((edge.getWeight(),edge.name))\n",
    "    return fringe_set"
   ]
  },
  {
   "cell_type": "code",
   "execution_count": 625,
   "metadata": {},
   "outputs": [],
   "source": [
    "\n",
    "def dijstraSSSP(dep, dest,huge_num = 100000):\n",
    "    all_vertice = copy.copy(dep.set_of_all_vertice)\n",
    "    n = len(all_vertice)\n",
    "    d = [huge_num] * n\n",
    "    start_ind = all_vertice.index(dep)\n",
    "    d[start_ind] = 0\n",
    "    \n",
    "    q = queue.Queue()\n",
    "    q.put(all_vertice[start_ind])\n",
    "    all_vertice.remove(all_vertice[start_ind])\n",
    "    for vertex in all_vertice:\n",
    "        q.put(vertex)\n",
    "    \n",
    "    all_vertice = dep.set_of_all_vertice\n",
    "    all_edges = []\n",
    "    for vertex in all_vertice:\n",
    "        edge = vertex.makeEdge(vertex,1)\n",
    "        all_edges.append((edge))\n",
    "        \n",
    "    #처음시작 하나 tree넣고시작\n",
    "    fringe = queue.PriorityQueue()\n",
    "    route = [-1] * n\n",
    "    tree = ([dep.name])\n",
    "    fringe_set = add_fringe(dep,fringe,0)\n",
    "    \n",
    "    while not fringe_set.empty():\n",
    "        tree_weight, tree_edge = fringe_set.get()\n",
    "        tree_index, tree_edge = test_1(all_edges,tree_edge)\n",
    "        \n",
    "        if d[tree_index] > tree_weight:\n",
    "            d[tree_index] = tree_weight\n",
    "            tree.append(tree_edge.name)\n",
    "            tree_vertex = all_vertice[tree_index]\n",
    "            #route[tree_index] = tree_vertex.name\n",
    "            #print(\"tree_vertex\",tree_vertex)\n",
    "            fringe_set = add_fringe(tree_vertex,fringe,tree_weight)\n",
    "        else:\n",
    "            pass\n",
    "    \n",
    "        if dest in tree:\n",
    "            return (tree,d)\n",
    "    \n",
    "    return (tree,d)\n",
    "tree,d = dijstraSSSP(a,i)\n",
    "\n"
   ]
  },
  {
   "cell_type": "code",
   "execution_count": 626,
   "metadata": {},
   "outputs": [
    {
     "data": {
      "text/plain": [
       "['a', 'd', 'b', 'e', 'f', 'g', 'i', 'h', 'c']"
      ]
     },
     "execution_count": 626,
     "metadata": {},
     "output_type": "execute_result"
    }
   ],
   "source": [
    "tree"
   ]
  },
  {
   "cell_type": "code",
   "execution_count": 627,
   "metadata": {},
   "outputs": [
    {
     "data": {
      "text/plain": [
       "[0,\n",
       " 0.3,\n",
       " 1.0,\n",
       " 0.2,\n",
       " 0.6000000000000001,\n",
       " 0.8,\n",
       " 0.8999999999999999,\n",
       " 0.9000000000000001,\n",
       " 0.9]"
      ]
     },
     "execution_count": 627,
     "metadata": {},
     "output_type": "execute_result"
    }
   ],
   "source": [
    "d"
   ]
  },
  {
   "cell_type": "code",
   "execution_count": 578,
   "metadata": {},
   "outputs": [
    {
     "data": {
      "text/plain": [
       "2"
      ]
     },
     "execution_count": 578,
     "metadata": {},
     "output_type": "execute_result"
    }
   ],
   "source": [
    "a.incidentEdges_calcul()\n",
    "a.numberOfEdges()"
   ]
  },
  {
   "cell_type": "code",
   "execution_count": 579,
   "metadata": {},
   "outputs": [
    {
     "name": "stdout",
     "output_type": "stream",
     "text": [
      "d b "
     ]
    }
   ],
   "source": [
    "a.incidentEdges()"
   ]
  },
  {
   "cell_type": "code",
   "execution_count": 580,
   "metadata": {},
   "outputs": [
    {
     "data": {
      "text/plain": [
       "4"
      ]
     },
     "execution_count": 580,
     "metadata": {},
     "output_type": "execute_result"
    }
   ],
   "source": [
    "e.incidentEdges_calcul()\n",
    "e.numberOfEdges()"
   ]
  },
  {
   "cell_type": "code",
   "execution_count": null,
   "metadata": {},
   "outputs": [],
   "source": []
  },
  {
   "cell_type": "code",
   "execution_count": null,
   "metadata": {},
   "outputs": [],
   "source": [
    "#새로운 수요점을 찾으면 그대로 vertex 입력해주고 weight 을 함수로 구해서 넣어주면됨.\n",
    "#ACA알고리즘을 이곳에 적용하려면\n",
    "#구한 weight + randomness 로 route를 찾음.\n",
    "#처음엔 Random 값 크게. 반복할수록 random값은 감소.\n",
    "# 결국 최적의 루트로 가게됨.\n"
   ]
  }
 ],
 "metadata": {
  "kernelspec": {
   "display_name": "Python 3",
   "language": "python",
   "name": "python3"
  },
  "language_info": {
   "codemirror_mode": {
    "name": "ipython",
    "version": 3
   },
   "file_extension": ".py",
   "mimetype": "text/x-python",
   "name": "python",
   "nbconvert_exporter": "python",
   "pygments_lexer": "ipython3",
   "version": "3.6.4"
  }
 },
 "nbformat": 4,
 "nbformat_minor": 2
}
