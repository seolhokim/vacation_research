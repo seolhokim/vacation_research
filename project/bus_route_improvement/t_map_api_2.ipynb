{
 "cells": [
  {
   "cell_type": "code",
   "execution_count": null,
   "metadata": {},
   "outputs": [],
   "source": [
    "#위도 경도가 return 형식이 조금씩 달라서 map 이 이상하게 생성될 수 있으므로\n",
    "#결과가 이상하면 X,Y값의 위치를 서로 바꾸어 보아보자."
   ]
  },
  {
   "cell_type": "code",
   "execution_count": 1,
   "metadata": {},
   "outputs": [],
   "source": [
    "import requests \n",
    "import ast\n",
    "import re\n",
    "import folium\n",
    "import numpy as np\n",
    "import pandas as pd\n",
    "import configparser\n",
    "import googlemaps"
   ]
  },
  {
   "cell_type": "code",
   "execution_count": 2,
   "metadata": {},
   "outputs": [],
   "source": [
    "class RoadFind:\n",
    "    def __init__(self):\n",
    "        self.url = \"https://api2.sktelecom.com/tmap/routes?version=1&format=html\"\n",
    "        self.headers = {}\n",
    "        self.data = {}\n",
    "        \n",
    "        self.road_list = []\n",
    "        self.made_map = self.map_make((37.449627,126.653116))\n",
    "        self.total_distance = 0\n",
    "        self.total_time = 0\n",
    "        \n",
    "        \n",
    "        self.google_key = ''\n",
    "        self.gmaps=[]\n",
    "        self.set_up()\n",
    "    def set_up(self):\n",
    "        config = configparser.ConfigParser()\n",
    "        config.read('config.ini')\n",
    "        apikey = config['api_key'][\"api_key\"]\n",
    "        self.google_key = config['google_key']['api_key']\n",
    "        self.headers['appKey'] = apikey\n",
    "        self.data={\n",
    "            \"startX\" : \"\",\n",
    "            \"startY\" : \"\",\n",
    "            \"endX\" : \"\",\n",
    "            \"endY\" : \"\",\n",
    "            \"reqCoordType\" : \"WGS84GEO\",\n",
    "            \"resCoordType\" : \"WGS84GEO\",\n",
    "            \"angle\" : \"172\",\n",
    "            \"searchOption\" : 10\n",
    "        }\n",
    "        self.gmaps= googlemaps.Client(key=self.google_key)\n",
    "    '''\n",
    "    google\n",
    "    '''    \n",
    "    def geocode_make(self,place):\n",
    "        '''\n",
    "        input place : string\n",
    "        output geocode : int [lng, lat]\n",
    "        '''\n",
    "        result = self.gmaps.geocode(place)\n",
    "        lat = result[0]['geometry']['location']['lat']\n",
    "        lng = result[0]['geometry']['location']['lng']\n",
    "        return [lng,lat]\n",
    "    \n",
    "    \n",
    "    def find_load(self,start_place,end_place):\n",
    "        start_geo = self.geocode_make(start_place)\n",
    "        end_geo = self.geocode_make(end_place)\n",
    "        self.set_start_end_points(start_geo[0],start_geo[1],\\\n",
    "                             end_geo[0],end_geo[1])\n",
    "        res = self.post()\n",
    "        self.get_road_info(res)\n",
    "        self.map_make((start_geo[1],start_geo[0]))\n",
    "        self.join_load(self.made_map,self.road_list)\n",
    "        result = self.map_show()\n",
    "        return result\n",
    "    '''\n",
    "    tmap\n",
    "    '''    \n",
    "    def set_start_end_points(self,startX,startY,endX,endY):\n",
    "        self.data['startX'] = str(startX)\n",
    "        self.data['startY'] = str(startY)\n",
    "        self.data['endX'] = str(endX)\n",
    "        self.data['endY'] = str(endY)\n",
    "        \n",
    "    def post(self):\n",
    "        res = requests.post(self.url,headers=self.headers,data=self.data)\n",
    "        if(res.status_code==200):\n",
    "            res = ast.literal_eval(res.text)\n",
    "            return res\n",
    "        else :\n",
    "            return res.status_code\n",
    "    \n",
    "    def get_road_info(self,res):\n",
    "        self.total_distance = res['features'][0]['properties']['totalDistance']\n",
    "        self.total_time = res['features'][0]['properties']['totalTime']\n",
    "        self.road_list = []\n",
    "        for i in range(len(res['features'])):\n",
    "            for j in range(len(res['features'][i]['geometry']['coordinates'])):\n",
    "                if isinstance(res['features'][i]['geometry']['coordinates'][j],list):\n",
    "                    temp=res['features'][i]['geometry']['coordinates'][j]\n",
    "                    x = temp[1]\n",
    "                    y = temp[0]\n",
    "                    self.road_list.append((x,y))\n",
    "                    \n",
    "    def map_make(self,location=[], zoom=15):\n",
    "        self.made_map = folium.Map(location = location, zoom_start= zoom) #location\n",
    "        return self.made_map\n",
    "    \n",
    "    def join_load(self,map_name,road_list):\n",
    "        res = folium.PolyLine(road_list).add_to(map_name)\n",
    "        return res \n",
    "    \n",
    "    def map_show(self,zoom=15):\n",
    "        return self.made_map\n",
    "    def total_distance_(self):\n",
    "        return str(self.total_distance)+\"m\"\n",
    "    def total_time_(self):\n",
    "        return str(round(self.total_time/60,3))+\"분\""
   ]
  },
  {
   "cell_type": "code",
   "execution_count": 3,
   "metadata": {},
   "outputs": [
    {
     "data": {
      "text/html": [
       "<div style=\"width:100%;\"><div style=\"position:relative;width:100%;height:0;padding-bottom:60%;\"><iframe src=\"data:text/html;charset=utf-8;base64,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\" style=\"position:absolute;width:100%;height:100%;left:0;top:0;border:none !important;\" allowfullscreen webkitallowfullscreen mozallowfullscreen></iframe></div></div>"
      ],
      "text/plain": [
       "<folium.folium.Map at 0x24623d39cc0>"
      ]
     },
     "execution_count": 3,
     "metadata": {},
     "output_type": "execute_result"
    }
   ],
   "source": [
    "rf = RoadFind()\n",
    "rf.map_make([36.67965641069,126.654492042609])"
   ]
  },
  {
   "cell_type": "code",
   "execution_count": 43,
   "metadata": {},
   "outputs": [
    {
     "data": {
      "text/html": [
       "<div style=\"width:100%;\"><div style=\"position:relative;width:100%;height:0;padding-bottom:60%;\"><iframe src=\"data:text/html;charset=utf-8;base64,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\" style=\"position:absolute;width:100%;height:100%;left:0;top:0;border:none !important;\" allowfullscreen webkitallowfullscreen mozallowfullscreen></iframe></div></div>"
      ],
      "text/plain": [
       "<folium.folium.Map at 0x1d11f3db940>"
      ]
     },
     "execution_count": 43,
     "metadata": {},
     "output_type": "execute_result"
    }
   ],
   "source": [
    "rf_2 = RoadFind()\n",
    "rf_2.find_load('인하대 후문', '주안역삼거리')"
   ]
  },
  {
   "cell_type": "code",
   "execution_count": 45,
   "metadata": {},
   "outputs": [
    {
     "data": {
      "text/plain": [
       "'10.483분'"
      ]
     },
     "execution_count": 45,
     "metadata": {},
     "output_type": "execute_result"
    }
   ],
   "source": [
    "rf_2.total_time_()"
   ]
  },
  {
   "cell_type": "code",
   "execution_count": 25,
   "metadata": {},
   "outputs": [
    {
     "data": {
      "text/html": [
       "<div style=\"width:100%;\"><div style=\"position:relative;width:100%;height:0;padding-bottom:60%;\"><iframe src=\"data:text/html;charset=utf-8;base64,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\" style=\"position:absolute;width:100%;height:100%;left:0;top:0;border:none !important;\" allowfullscreen webkitallowfullscreen mozallowfullscreen></iframe></div></div>"
      ],
      "text/plain": [
       "<folium.folium.Map at 0x1d11f33cc88>"
      ]
     },
     "execution_count": 25,
     "metadata": {},
     "output_type": "execute_result"
    }
   ],
   "source": [
    "\"\"\"\n",
    "라인 이것저것 추가하려면 이렇게이용해야함\n",
    "rf = RoadFind()\n",
    "rf.set_start_end_points(126.653116,37.449627,126.6803348,37.4639865)\n",
    "res = rf.post()\n",
    "rf.get_road_info(res)\n",
    "rf.join_load(rf.made_map,rf.road_list)\n",
    "rf.map_show()\n",
    "\n",
    "\"\"\""
   ]
  },
  {
   "cell_type": "code",
   "execution_count": 22,
   "metadata": {},
   "outputs": [
    {
     "data": {
      "text/plain": [
       "'15.5분'"
      ]
     },
     "execution_count": 22,
     "metadata": {},
     "output_type": "execute_result"
    }
   ],
   "source": []
  }
 ],
 "metadata": {
  "kernelspec": {
   "display_name": "Python 3",
   "language": "python",
   "name": "python3"
  },
  "language_info": {
   "codemirror_mode": {
    "name": "ipython",
    "version": 3
   },
   "file_extension": ".py",
   "mimetype": "text/x-python",
   "name": "python",
   "nbconvert_exporter": "python",
   "pygments_lexer": "ipython3",
   "version": "3.6.4"
  }
 },
 "nbformat": 4,
 "nbformat_minor": 2
}
