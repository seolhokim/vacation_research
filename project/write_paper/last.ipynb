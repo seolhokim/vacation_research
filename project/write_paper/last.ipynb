{
 "cells": [
  {
   "cell_type": "code",
   "execution_count": 1,
   "metadata": {},
   "outputs": [
    {
     "name": "stderr",
     "output_type": "stream",
     "text": [
      "C:\\Users\\sh2\\Anaconda3\\lib\\site-packages\\h5py\\__init__.py:36: FutureWarning: Conversion of the second argument of issubdtype from `float` to `np.floating` is deprecated. In future, it will be treated as `np.float64 == np.dtype(float).type`.\n",
      "  from ._conv import register_converters as _register_converters\n",
      "Using TensorFlow backend.\n"
     ]
    }
   ],
   "source": [
    "import pandas as pd\n",
    "import numpy as np\n",
    "from keras.models import Sequential\n",
    "from keras.layers import Dense, Dropout\n",
    "from sklearn.preprocessing import RobustScaler, MinMaxScaler\n",
    "import matplotlib.pyplot as plt\n",
    "from sklearn.ensemble import RandomForestRegressor,  GradientBoostingRegressor"
   ]
  },
  {
   "cell_type": "code",
   "execution_count": 2,
   "metadata": {},
   "outputs": [
    {
     "data": {
      "text/html": [
       "<div>\n",
       "<table border=\"1\" class=\"dataframe\">\n",
       "  <thead>\n",
       "    <tr style=\"text-align: right;\">\n",
       "      <th></th>\n",
       "      <th>year</th>\n",
       "      <th>month</th>\n",
       "      <th>day</th>\n",
       "      <th>anger_score</th>\n",
       "      <th>disgust_score</th>\n",
       "      <th>fear_score</th>\n",
       "      <th>joy_score</th>\n",
       "      <th>sadness_score</th>\n",
       "      <th>anger_count</th>\n",
       "      <th>disgust_count</th>\n",
       "      <th>fear_count</th>\n",
       "      <th>joy_count</th>\n",
       "      <th>sadness_count</th>\n",
       "      <th>close</th>\n",
       "      <th>open</th>\n",
       "      <th>high</th>\n",
       "      <th>low</th>\n",
       "      <th>change</th>\n",
       "    </tr>\n",
       "  </thead>\n",
       "  <tbody>\n",
       "    <tr>\n",
       "      <th>0</th>\n",
       "      <td>2011</td>\n",
       "      <td>4</td>\n",
       "      <td>11</td>\n",
       "      <td>23.678598</td>\n",
       "      <td>1.862068</td>\n",
       "      <td>3.365532</td>\n",
       "      <td>129.260966</td>\n",
       "      <td>22.046661</td>\n",
       "      <td>28</td>\n",
       "      <td>2</td>\n",
       "      <td>4</td>\n",
       "      <td>150</td>\n",
       "      <td>26</td>\n",
       "      <td>12381.11</td>\n",
       "      <td>12380.43</td>\n",
       "      <td>12476.93</td>\n",
       "      <td>12319.35</td>\n",
       "      <td>0.0001</td>\n",
       "    </tr>\n",
       "    <tr>\n",
       "      <th>1</th>\n",
       "      <td>2011</td>\n",
       "      <td>4</td>\n",
       "      <td>12</td>\n",
       "      <td>23.436641</td>\n",
       "      <td>1.568504</td>\n",
       "      <td>1.807040</td>\n",
       "      <td>110.107599</td>\n",
       "      <td>28.552481</td>\n",
       "      <td>28</td>\n",
       "      <td>2</td>\n",
       "      <td>2</td>\n",
       "      <td>128</td>\n",
       "      <td>33</td>\n",
       "      <td>12263.58</td>\n",
       "      <td>12381.04</td>\n",
       "      <td>12381.04</td>\n",
       "      <td>12185.09</td>\n",
       "      <td>-0.9500</td>\n",
       "    </tr>\n",
       "    <tr>\n",
       "      <th>2</th>\n",
       "      <td>2011</td>\n",
       "      <td>4</td>\n",
       "      <td>13</td>\n",
       "      <td>17.595715</td>\n",
       "      <td>3.441165</td>\n",
       "      <td>3.351268</td>\n",
       "      <td>103.535217</td>\n",
       "      <td>17.206766</td>\n",
       "      <td>21</td>\n",
       "      <td>4</td>\n",
       "      <td>4</td>\n",
       "      <td>121</td>\n",
       "      <td>21</td>\n",
       "      <td>12270.99</td>\n",
       "      <td>12263.73</td>\n",
       "      <td>12372.94</td>\n",
       "      <td>12203.63</td>\n",
       "      <td>0.0006</td>\n",
       "    </tr>\n",
       "    <tr>\n",
       "      <th>3</th>\n",
       "      <td>2011</td>\n",
       "      <td>4</td>\n",
       "      <td>14</td>\n",
       "      <td>16.065135</td>\n",
       "      <td>4.921378</td>\n",
       "      <td>5.183304</td>\n",
       "      <td>102.417106</td>\n",
       "      <td>15.457086</td>\n",
       "      <td>19</td>\n",
       "      <td>6</td>\n",
       "      <td>6</td>\n",
       "      <td>121</td>\n",
       "      <td>18</td>\n",
       "      <td>12285.15</td>\n",
       "      <td>12270.24</td>\n",
       "      <td>12332.71</td>\n",
       "      <td>12137.98</td>\n",
       "      <td>0.0012</td>\n",
       "    </tr>\n",
       "    <tr>\n",
       "      <th>4</th>\n",
       "      <td>2011</td>\n",
       "      <td>4</td>\n",
       "      <td>15</td>\n",
       "      <td>16.869910</td>\n",
       "      <td>1.555661</td>\n",
       "      <td>3.334624</td>\n",
       "      <td>121.630811</td>\n",
       "      <td>14.709462</td>\n",
       "      <td>20</td>\n",
       "      <td>2</td>\n",
       "      <td>4</td>\n",
       "      <td>141</td>\n",
       "      <td>18</td>\n",
       "      <td>12341.83</td>\n",
       "      <td>12285.45</td>\n",
       "      <td>12402.61</td>\n",
       "      <td>12238.34</td>\n",
       "      <td>0.0046</td>\n",
       "    </tr>\n",
       "  </tbody>\n",
       "</table>\n",
       "</div>"
      ],
      "text/plain": [
       "   year  month  day  anger_score  disgust_score  fear_score   joy_score  \\\n",
       "0  2011      4   11    23.678598       1.862068    3.365532  129.260966   \n",
       "1  2011      4   12    23.436641       1.568504    1.807040  110.107599   \n",
       "2  2011      4   13    17.595715       3.441165    3.351268  103.535217   \n",
       "3  2011      4   14    16.065135       4.921378    5.183304  102.417106   \n",
       "4  2011      4   15    16.869910       1.555661    3.334624  121.630811   \n",
       "\n",
       "   sadness_score  anger_count  disgust_count  fear_count  joy_count  \\\n",
       "0      22.046661           28              2           4        150   \n",
       "1      28.552481           28              2           2        128   \n",
       "2      17.206766           21              4           4        121   \n",
       "3      15.457086           19              6           6        121   \n",
       "4      14.709462           20              2           4        141   \n",
       "\n",
       "   sadness_count     close      open      high       low  change  \n",
       "0             26  12381.11  12380.43  12476.93  12319.35  0.0001  \n",
       "1             33  12263.58  12381.04  12381.04  12185.09 -0.9500  \n",
       "2             21  12270.99  12263.73  12372.94  12203.63  0.0006  \n",
       "3             18  12285.15  12270.24  12332.71  12137.98  0.0012  \n",
       "4             18  12341.83  12285.45  12402.61  12238.34  0.0046  "
      ]
     },
     "execution_count": 2,
     "metadata": {},
     "output_type": "execute_result"
    }
   ],
   "source": [
    "data = pd.read_csv(\"data.csv\")\n",
    "data.head()"
   ]
  },
  {
   "cell_type": "code",
   "execution_count": 3,
   "metadata": {},
   "outputs": [],
   "source": [
    "label = pd.DataFrame(data.iloc[:,-5:])\n",
    "data = data.iloc[:,3:13]"
   ]
  },
  {
   "cell_type": "code",
   "execution_count": 4,
   "metadata": {},
   "outputs": [],
   "source": [
    "#밀어버릴날짜\n",
    "label = label.iloc[2:,:]\n",
    "data = data.iloc[:-2,:]\n",
    "label = label.reset_index().iloc[:,1:]\n",
    "data = data.reset_index().iloc[:,1:]"
   ]
  },
  {
   "cell_type": "code",
   "execution_count": 5,
   "metadata": {},
   "outputs": [],
   "source": [
    "train_data = data.iloc[:-50,:]\n",
    "test_data = data.iloc[-50:,:]\n",
    "train_label = label.iloc[:-50,0]\n",
    "test_label = label.iloc[-50:,0]"
   ]
  },
  {
   "cell_type": "code",
   "execution_count": 6,
   "metadata": {},
   "outputs": [],
   "source": [
    "scaler_1 = RobustScaler()\n",
    "scaler_2 = RobustScaler()\n",
    "scale_data= scaler_1.fit_transform(train_data)\n",
    "scale_label = pd.DataFrame(scaler_2.fit_transform(pd.DataFrame(train_label)))"
   ]
  },
  {
   "cell_type": "code",
   "execution_count": 7,
   "metadata": {},
   "outputs": [],
   "source": [
    "scale_data = pd.DataFrame(scale_data,columns=['anger_score', 'disgust_score', 'fear_score',\n",
    "       'joy_score', 'sadness_score', 'anger_count', 'disgust_count',\n",
    "       'fear_count', 'joy_count', 'sadness_count'])\n",
    "test_data = pd.DataFrame(scaler_1.transform(test_data),columns=['anger_score', 'disgust_score', 'fear_score',\n",
    "       'joy_score', 'sadness_score', 'anger_count', 'disgust_count',\n",
    "       'fear_count', 'joy_count', 'sadness_count'])\n",
    "test_label = pd.DataFrame(scaler_2.transform(test_label.reshape(-1,1)))"
   ]
  },
  {
   "cell_type": "code",
   "execution_count": null,
   "metadata": {},
   "outputs": [],
   "source": [
    "real_value = scaler_2.inverse_transform(test_label)"
   ]
  },
  {
   "cell_type": "code",
   "execution_count": 12,
   "metadata": {},
   "outputs": [
    {
     "name": "stderr",
     "output_type": "stream",
     "text": [
      "C:\\Users\\sh2\\Anaconda3\\lib\\site-packages\\sklearn\\utils\\validation.py:578: DataConversionWarning: A column-vector y was passed when a 1d array was expected. Please change the shape of y to (n_samples, ), for example using ravel().\n",
      "  y = column_or_1d(y, warn=True)\n"
     ]
    },
    {
     "data": {
      "text/html": [
       "<div>\n",
       "<table border=\"1\" class=\"dataframe\">\n",
       "  <thead>\n",
       "    <tr style=\"text-align: right;\">\n",
       "      <th></th>\n",
       "      <th>0</th>\n",
       "      <th>0</th>\n",
       "    </tr>\n",
       "  </thead>\n",
       "  <tbody>\n",
       "    <tr>\n",
       "      <th>0</th>\n",
       "      <td>1.000000</td>\n",
       "      <td>0.442323</td>\n",
       "    </tr>\n",
       "    <tr>\n",
       "      <th>0</th>\n",
       "      <td>0.442323</td>\n",
       "      <td>1.000000</td>\n",
       "    </tr>\n",
       "  </tbody>\n",
       "</table>\n",
       "</div>"
      ],
      "text/plain": [
       "          0         0\n",
       "0  1.000000  0.442323\n",
       "0  0.442323  1.000000"
      ]
     },
     "execution_count": 12,
     "metadata": {},
     "output_type": "execute_result"
    }
   ],
   "source": [
    "GBoost = GradientBoostingRegressor(min_samples_split=0.65,max_depth=4,random_state=2,\\\n",
    "                                  learning_rate =0.11, n_estimators=101)\n",
    "GBoost.fit(scale_data,scale_label)\n",
    "res = GBoost.predict(test_data)\n",
    "my_test = scaler_2.inverse_transform(res.reshape(-1,1))\n",
    "test_cor = pd.concat([pd.DataFrame(my_test),pd.DataFrame(real_value)],axis=1)\n",
    "test_cor.corr()"
   ]
  },
  {
   "cell_type": "code",
   "execution_count": 13,
   "metadata": {},
   "outputs": [
    {
     "data": {
      "text/plain": [
       "[<matplotlib.lines.Line2D at 0x1e9b17f3908>]"
      ]
     },
     "execution_count": 13,
     "metadata": {},
     "output_type": "execute_result"
    },
    {
     "data": {
      "image/png": "[encoded data removed]",
      "text/plain": [
       "<matplotlib.figure.Figure at 0x1e9b1731b00>"
      ]
     },
     "metadata": {},
     "output_type": "display_data"
    }
   ],
   "source": [
    "plt.plot(my_test,color='red')\n",
    "real_value = scaler_2.inverse_transform(test_label)\n",
    "plt.plot(real_value,color='blue')"
   ]
  },
  {
   "cell_type": "code",
   "execution_count": 15,
   "metadata": {},
   "outputs": [],
   "source": [
    "from sklearn.externals import joblib"
   ]
  },
  {
   "cell_type": "code",
   "execution_count": 21,
   "metadata": {},
   "outputs": [
    {
     "data": {
      "text/plain": [
       "['emotion_regressor.pkl']"
      ]
     },
     "execution_count": 21,
     "metadata": {},
     "output_type": "execute_result"
    }
   ],
   "source": [
    "joblib.dump(GBoost,\"emotion_regressor.pkl\")"
   ]
  },
  {
   "cell_type": "code",
   "execution_count": 18,
   "metadata": {},
   "outputs": [],
   "source": [
    "\n",
    "test_regressor_1 = joblib.load(\"test.pkl\")"
   ]
  }
 ],
 "metadata": {
  "kernelspec": {
   "display_name": "Python 3",
   "language": "python",
   "name": "python3"
  },
  "language_info": {
   "codemirror_mode": {
    "name": "ipython",
    "version": 3
   },
   "file_extension": ".py",
   "mimetype": "text/x-python",
   "name": "python",
   "nbconvert_exporter": "python",
   "pygments_lexer": "ipython3",
   "version": "3.6.4"
  }
 },
 "nbformat": 4,
 "nbformat_minor": 2
}
