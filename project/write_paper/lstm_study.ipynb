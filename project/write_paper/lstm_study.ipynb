{
 "cells": [
  {
   "cell_type": "code",
   "execution_count": 1,
   "metadata": {},
   "outputs": [],
   "source": [
    "import pandas as pd\n",
    "import numpy as np"
   ]
  },
  {
   "cell_type": "code",
   "execution_count": 59,
   "metadata": {},
   "outputs": [],
   "source": [
    "from keras.models import Sequential\n",
    "from keras.layers import Dense, Dropout\n",
    "from keras.layers import LSTM\n",
    "from sklearn.preprocessing import RobustScaler , MinMaxScaler"
   ]
  },
  {
   "cell_type": "code",
   "execution_count": 61,
   "metadata": {},
   "outputs": [],
   "source": [
    "train = pd.read_csv(\"Google_Stock_price_Train.csv\")"
   ]
  },
  {
   "cell_type": "code",
   "execution_count": 4,
   "metadata": {},
   "outputs": [
    {
     "data": {
      "text/html": [
       "<div>\n",
       "<table border=\"1\" class=\"dataframe\">\n",
       "  <thead>\n",
       "    <tr style=\"text-align: right;\">\n",
       "      <th></th>\n",
       "      <th>﻿Date</th>\n",
       "      <th>Open</th>\n",
       "      <th>High</th>\n",
       "      <th>Low</th>\n",
       "      <th>Close</th>\n",
       "      <th>Volume</th>\n",
       "    </tr>\n",
       "  </thead>\n",
       "  <tbody>\n",
       "    <tr>\n",
       "      <th>0</th>\n",
       "      <td>26-Sep-17</td>\n",
       "      <td>936.69</td>\n",
       "      <td>944.08</td>\n",
       "      <td>935.12</td>\n",
       "      <td>937.43</td>\n",
       "      <td>1672749</td>\n",
       "    </tr>\n",
       "    <tr>\n",
       "      <th>1</th>\n",
       "      <td>25-Sep-17</td>\n",
       "      <td>939.45</td>\n",
       "      <td>939.75</td>\n",
       "      <td>924.51</td>\n",
       "      <td>934.28</td>\n",
       "      <td>1873375</td>\n",
       "    </tr>\n",
       "    <tr>\n",
       "      <th>2</th>\n",
       "      <td>22-Sep-17</td>\n",
       "      <td>942.77</td>\n",
       "      <td>950.00</td>\n",
       "      <td>940.84</td>\n",
       "      <td>943.26</td>\n",
       "      <td>1074806</td>\n",
       "    </tr>\n",
       "    <tr>\n",
       "      <th>3</th>\n",
       "      <td>21-Sep-17</td>\n",
       "      <td>948.13</td>\n",
       "      <td>952.80</td>\n",
       "      <td>939.38</td>\n",
       "      <td>947.55</td>\n",
       "      <td>1370685</td>\n",
       "    </tr>\n",
       "    <tr>\n",
       "      <th>4</th>\n",
       "      <td>20-Sep-17</td>\n",
       "      <td>937.73</td>\n",
       "      <td>950.00</td>\n",
       "      <td>937.50</td>\n",
       "      <td>947.54</td>\n",
       "      <td>2004018</td>\n",
       "    </tr>\n",
       "  </tbody>\n",
       "</table>\n",
       "</div>"
      ],
      "text/plain": [
       "       ﻿Date    Open    High     Low   Close   Volume\n",
       "0  26-Sep-17  936.69  944.08  935.12  937.43  1672749\n",
       "1  25-Sep-17  939.45  939.75  924.51  934.28  1873375\n",
       "2  22-Sep-17  942.77  950.00  940.84  943.26  1074806\n",
       "3  21-Sep-17  948.13  952.80  939.38  947.55  1370685\n",
       "4  20-Sep-17  937.73  950.00  937.50  947.54  2004018"
      ]
     },
     "execution_count": 4,
     "metadata": {},
     "output_type": "execute_result"
    }
   ],
   "source": [
    "train.head()"
   ]
  },
  {
   "cell_type": "code",
   "execution_count": 62,
   "metadata": {},
   "outputs": [],
   "source": [
    "train = train.iloc[:,1]"
   ]
  },
  {
   "cell_type": "code",
   "execution_count": 63,
   "metadata": {},
   "outputs": [],
   "source": [
    "train_label = train[1:]\n",
    "train = train[:-1]"
   ]
  },
  {
   "cell_type": "code",
   "execution_count": 11,
   "metadata": {},
   "outputs": [],
   "source": []
  },
  {
   "cell_type": "code",
   "execution_count": 64,
   "metadata": {},
   "outputs": [],
   "source": [
    "scaler = MinMaxScaler()\n",
    "train = train.reshape(-1,1)\n",
    "scale_train = scaler.fit_transform(train)"
   ]
  },
  {
   "cell_type": "code",
   "execution_count": 65,
   "metadata": {},
   "outputs": [],
   "source": [
    "scale_train_label = scaler.transform(np.reshape(train_label,(-1,1)))"
   ]
  },
  {
   "cell_type": "code",
   "execution_count": 66,
   "metadata": {},
   "outputs": [],
   "source": [
    "scale_train = np.reshape(scale_train, (-1, 1, 1))"
   ]
  },
  {
   "cell_type": "code",
   "execution_count": 67,
   "metadata": {},
   "outputs": [],
   "source": [
    "def model_making():\n",
    "    model = Sequential()\n",
    "    model.add(LSTM(128,input_shape=(1,1),return_sequences=True))\n",
    "    model.add(Dropout(0.1))\n",
    "    model.add(LSTM(units = 50))\n",
    "    model.add(Dropout(0.1))\n",
    "    model.add(Dense(1))\n",
    "    model.compile(loss='mean_squared_error', optimizer='adam')\n",
    "    return model\n",
    "model = model_making()"
   ]
  },
  {
   "cell_type": "code",
   "execution_count": 68,
   "metadata": {},
   "outputs": [
    {
     "name": "stdout",
     "output_type": "stream",
     "text": [
      "Epoch 1/100\n",
      "1257/1257 [==============================] - 2s 2ms/step - loss: 0.1444\n",
      "Epoch 2/100\n",
      "1257/1257 [==============================] - 0s 171us/step - loss: 0.0202\n",
      "Epoch 3/100\n",
      "1257/1257 [==============================] - 0s 157us/step - loss: 0.0087\n",
      "Epoch 4/100\n",
      "1257/1257 [==============================] - 0s 157us/step - loss: 0.0025\n",
      "Epoch 5/100\n",
      "1257/1257 [==============================] - 0s 159us/step - loss: 0.0014\n",
      "Epoch 6/100\n",
      "1257/1257 [==============================] - 0s 160us/step - loss: 0.0014\n",
      "Epoch 7/100\n",
      "1257/1257 [==============================] - 0s 163us/step - loss: 0.0013\n",
      "Epoch 8/100\n",
      "1257/1257 [==============================] - 0s 173us/step - loss: 0.0014\n",
      "Epoch 9/100\n",
      "1257/1257 [==============================] - 0s 172us/step - loss: 0.0013\n",
      "Epoch 10/100\n",
      "1257/1257 [==============================] - 0s 163us/step - loss: 0.0014\n",
      "Epoch 11/100\n",
      "1257/1257 [==============================] - 0s 154us/step - loss: 0.0012\n",
      "Epoch 12/100\n",
      "1257/1257 [==============================] - 0s 169us/step - loss: 0.0012\n",
      "Epoch 13/100\n",
      "1257/1257 [==============================] - 0s 168us/step - loss: 0.0011\n",
      "Epoch 14/100\n",
      "1257/1257 [==============================] - 0s 180us/step - loss: 0.0011\n",
      "Epoch 15/100\n",
      "1257/1257 [==============================] - 0s 172us/step - loss: 0.0010\n",
      "Epoch 16/100\n",
      "1257/1257 [==============================] - 0s 194us/step - loss: 0.0011\n",
      "Epoch 17/100\n",
      "1257/1257 [==============================] - 0s 171us/step - loss: 0.0011\n",
      "Epoch 18/100\n",
      "1257/1257 [==============================] - 0s 182us/step - loss: 0.0010\n",
      "Epoch 19/100\n",
      "1257/1257 [==============================] - 0s 163us/step - loss: 9.5482e-04\n",
      "Epoch 20/100\n",
      "1257/1257 [==============================] - 0s 163us/step - loss: 9.7578e-04\n",
      "Epoch 21/100\n",
      "1257/1257 [==============================] - 0s 180us/step - loss: 0.0010\n",
      "Epoch 22/100\n",
      "1257/1257 [==============================] - 0s 172us/step - loss: 0.0010\n",
      "Epoch 23/100\n",
      "1257/1257 [==============================] - 0s 170us/step - loss: 9.2625e-04\n",
      "Epoch 24/100\n",
      "1257/1257 [==============================] - 0s 156us/step - loss: 9.3527e-04\n",
      "Epoch 25/100\n",
      "1257/1257 [==============================] - 0s 178us/step - loss: 0.0010\n",
      "Epoch 26/100\n",
      "1257/1257 [==============================] - 0s 204us/step - loss: 9.4622e-04\n",
      "Epoch 27/100\n",
      "1257/1257 [==============================] - 0s 159us/step - loss: 8.9155e-04\n",
      "Epoch 28/100\n",
      "1257/1257 [==============================] - 0s 172us/step - loss: 8.7393e-04\n",
      "Epoch 29/100\n",
      "1257/1257 [==============================] - 0s 168us/step - loss: 8.8504e-04\n",
      "Epoch 30/100\n",
      "1257/1257 [==============================] - 0s 182us/step - loss: 9.2548e-04\n",
      "Epoch 31/100\n",
      "1257/1257 [==============================] - 0s 191us/step - loss: 9.7817e-04\n",
      "Epoch 32/100\n",
      "1257/1257 [==============================] - 0s 183us/step - loss: 8.9885e-04\n",
      "Epoch 33/100\n",
      "1257/1257 [==============================] - 0s 149us/step - loss: 8.6086e-04\n",
      "Epoch 34/100\n",
      "1257/1257 [==============================] - 0s 156us/step - loss: 8.2647e-04\n",
      "Epoch 35/100\n",
      "1257/1257 [==============================] - 0s 166us/step - loss: 8.3187e-04\n",
      "Epoch 36/100\n",
      "1257/1257 [==============================] - 0s 165us/step - loss: 8.2950e-04\n",
      "Epoch 37/100\n",
      "1257/1257 [==============================] - 0s 166us/step - loss: 8.7140e-04\n",
      "Epoch 38/100\n",
      "1257/1257 [==============================] - 0s 157us/step - loss: 9.2005e-04\n",
      "Epoch 39/100\n",
      "1257/1257 [==============================] - 0s 179us/step - loss: 8.9034e-04\n",
      "Epoch 40/100\n",
      "1257/1257 [==============================] - 0s 170us/step - loss: 8.4644e-04\n",
      "Epoch 41/100\n",
      "1257/1257 [==============================] - 0s 170us/step - loss: 8.5943e-04\n",
      "Epoch 42/100\n",
      "1257/1257 [==============================] - 0s 159us/step - loss: 8.8687e-04\n",
      "Epoch 43/100\n",
      "1257/1257 [==============================] - 0s 175us/step - loss: 8.3136e-04\n",
      "Epoch 44/100\n",
      "1257/1257 [==============================] - 0s 162us/step - loss: 8.6702e-04\n",
      "Epoch 45/100\n",
      "1257/1257 [==============================] - 0s 187us/step - loss: 8.8012e-04\n",
      "Epoch 46/100\n",
      "1257/1257 [==============================] - 0s 172us/step - loss: 7.7515e-04\n",
      "Epoch 47/100\n",
      "1257/1257 [==============================] - 0s 167us/step - loss: 7.5734e-04\n",
      "Epoch 48/100\n",
      "1257/1257 [==============================] - 0s 167us/step - loss: 7.9406e-04\n",
      "Epoch 49/100\n",
      "1257/1257 [==============================] - 0s 156us/step - loss: 8.0864e-04\n",
      "Epoch 50/100\n",
      "1257/1257 [==============================] - 0s 164us/step - loss: 8.9870e-04\n",
      "Epoch 51/100\n",
      "1257/1257 [==============================] - 0s 161us/step - loss: 7.7941e-04\n",
      "Epoch 52/100\n",
      "1257/1257 [==============================] - 0s 165us/step - loss: 8.0705e-04\n",
      "Epoch 53/100\n",
      "1257/1257 [==============================] - 0s 160us/step - loss: 6.8950e-04\n",
      "Epoch 54/100\n",
      "1257/1257 [==============================] - 0s 162us/step - loss: 8.0589e-04\n",
      "Epoch 55/100\n",
      "1257/1257 [==============================] - 0s 152us/step - loss: 7.3913e-04\n",
      "Epoch 56/100\n",
      "1257/1257 [==============================] - 0s 165us/step - loss: 7.8788e-04\n",
      "Epoch 57/100\n",
      "1257/1257 [==============================] - 0s 156us/step - loss: 7.4000e-04\n",
      "Epoch 58/100\n",
      "1257/1257 [==============================] - 0s 162us/step - loss: 7.1867e-04\n",
      "Epoch 59/100\n",
      "1257/1257 [==============================] - 0s 153us/step - loss: 7.4273e-04\n",
      "Epoch 60/100\n",
      "1257/1257 [==============================] - 0s 152us/step - loss: 7.4254e-04\n",
      "Epoch 61/100\n",
      "1257/1257 [==============================] - 0s 156us/step - loss: 7.8684e-04\n",
      "Epoch 62/100\n",
      "1257/1257 [==============================] - 0s 152us/step - loss: 7.3847e-04\n",
      "Epoch 63/100\n",
      "1257/1257 [==============================] - 0s 157us/step - loss: 7.3000e-04\n",
      "Epoch 64/100\n",
      "1257/1257 [==============================] - 0s 157us/step - loss: 8.1574e-04\n",
      "Epoch 65/100\n",
      "1257/1257 [==============================] - 0s 160us/step - loss: 7.4685e-04\n",
      "Epoch 66/100\n",
      "1257/1257 [==============================] - 0s 152us/step - loss: 7.7574e-04\n",
      "Epoch 67/100\n",
      "1257/1257 [==============================] - 0s 170us/step - loss: 7.5164e-04\n",
      "Epoch 68/100\n",
      "1257/1257 [==============================] - 0s 152us/step - loss: 7.0686e-04\n",
      "Epoch 69/100\n",
      "1257/1257 [==============================] - 0s 152us/step - loss: 7.4153e-04\n",
      "Epoch 70/100\n",
      "1257/1257 [==============================] - 0s 166us/step - loss: 6.4369e-04\n",
      "Epoch 71/100\n",
      "1257/1257 [==============================] - 0s 153us/step - loss: 7.2880e-04\n",
      "Epoch 72/100\n",
      "1257/1257 [==============================] - 0s 156us/step - loss: 7.5041e-04\n",
      "Epoch 73/100\n",
      "1257/1257 [==============================] - 0s 152us/step - loss: 7.3162e-04\n",
      "Epoch 74/100\n",
      "1257/1257 [==============================] - 0s 161us/step - loss: 7.0018e-04\n",
      "Epoch 75/100\n",
      "1257/1257 [==============================] - 0s 163us/step - loss: 6.4237e-04\n",
      "Epoch 76/100\n",
      "1257/1257 [==============================] - 0s 164us/step - loss: 7.7428e-04\n",
      "Epoch 77/100\n",
      "1257/1257 [==============================] - 0s 174us/step - loss: 6.8031e-04\n",
      "Epoch 78/100\n",
      "1257/1257 [==============================] - 0s 168us/step - loss: 6.7111e-04\n",
      "Epoch 79/100\n",
      "1257/1257 [==============================] - 0s 169us/step - loss: 7.0596e-04\n",
      "Epoch 80/100\n",
      "1257/1257 [==============================] - 0s 163us/step - loss: 6.8161e-04\n",
      "Epoch 81/100\n",
      "1257/1257 [==============================] - 0s 172us/step - loss: 6.5304e-04\n",
      "Epoch 82/100\n",
      "1257/1257 [==============================] - 0s 165us/step - loss: 6.5032e-04\n",
      "Epoch 83/100\n",
      "1257/1257 [==============================] - 0s 180us/step - loss: 6.2976e-04\n",
      "Epoch 84/100\n",
      "1257/1257 [==============================] - 0s 186us/step - loss: 6.9328e-04\n",
      "Epoch 85/100\n",
      "1257/1257 [==============================] - 0s 173us/step - loss: 6.8818e-04\n",
      "Epoch 86/100\n",
      "1257/1257 [==============================] - 0s 182us/step - loss: 6.2449e-04\n",
      "Epoch 87/100\n",
      "1257/1257 [==============================] - 0s 185us/step - loss: 6.6146e-04\n",
      "Epoch 88/100\n",
      "1257/1257 [==============================] - 0s 174us/step - loss: 6.3685e-04\n",
      "Epoch 89/100\n",
      "1257/1257 [==============================] - 0s 162us/step - loss: 6.4406e-04\n",
      "Epoch 90/100\n",
      "1257/1257 [==============================] - 0s 157us/step - loss: 6.7724e-04\n",
      "Epoch 91/100\n",
      "1257/1257 [==============================] - 0s 159us/step - loss: 6.5679e-04\n",
      "Epoch 92/100\n"
     ]
    },
    {
     "name": "stdout",
     "output_type": "stream",
     "text": [
      "1257/1257 [==============================] - 0s 169us/step - loss: 6.3877e-04\n",
      "Epoch 93/100\n",
      "1257/1257 [==============================] - 0s 157us/step - loss: 6.1403e-04\n",
      "Epoch 94/100\n",
      "1257/1257 [==============================] - 0s 188us/step - loss: 6.5685e-04\n",
      "Epoch 95/100\n",
      "1257/1257 [==============================] - 0s 152us/step - loss: 5.9039e-04\n",
      "Epoch 96/100\n",
      "1257/1257 [==============================] - 0s 189us/step - loss: 5.7161e-04\n",
      "Epoch 97/100\n",
      "1257/1257 [==============================] - 0s 162us/step - loss: 6.0106e-04\n",
      "Epoch 98/100\n",
      "1257/1257 [==============================] - 0s 157us/step - loss: 5.7586e-04\n",
      "Epoch 99/100\n",
      "1257/1257 [==============================] - 0s 172us/step - loss: 6.6797e-04\n",
      "Epoch 100/100\n",
      "1257/1257 [==============================] - 0s 176us/step - loss: 6.3321e-04\n"
     ]
    },
    {
     "data": {
      "text/plain": [
       "<keras.callbacks.History at 0x207dec32b38>"
      ]
     },
     "execution_count": 68,
     "metadata": {},
     "output_type": "execute_result"
    }
   ],
   "source": [
    "model.fit(scale_train,scale_train_label,batch_size = 32,epochs=100)"
   ]
  },
  {
   "cell_type": "code",
   "execution_count": 116,
   "metadata": {},
   "outputs": [],
   "source": [
    "test = pd.read_csv(\"Google_Stock_Price_Test.csv\")"
   ]
  },
  {
   "cell_type": "code",
   "execution_count": 105,
   "metadata": {},
   "outputs": [
    {
     "data": {
      "text/html": [
       "<div>\n",
       "<table border=\"1\" class=\"dataframe\">\n",
       "  <thead>\n",
       "    <tr style=\"text-align: right;\">\n",
       "      <th></th>\n",
       "      <th>﻿Date</th>\n",
       "      <th>Open</th>\n",
       "      <th>High</th>\n",
       "      <th>Low</th>\n",
       "      <th>Close</th>\n",
       "      <th>Volume</th>\n",
       "    </tr>\n",
       "  </thead>\n",
       "  <tbody>\n",
       "    <tr>\n",
       "      <th>0</th>\n",
       "      <td>25-Oct-17</td>\n",
       "      <td>986.27</td>\n",
       "      <td>994.43</td>\n",
       "      <td>977.72</td>\n",
       "      <td>991.46</td>\n",
       "      <td>1395282</td>\n",
       "    </tr>\n",
       "    <tr>\n",
       "      <th>1</th>\n",
       "      <td>24-Oct-17</td>\n",
       "      <td>986.50</td>\n",
       "      <td>989.26</td>\n",
       "      <td>977.08</td>\n",
       "      <td>988.49</td>\n",
       "      <td>1445129</td>\n",
       "    </tr>\n",
       "    <tr>\n",
       "      <th>2</th>\n",
       "      <td>23-Oct-17</td>\n",
       "      <td>1005.18</td>\n",
       "      <td>1005.79</td>\n",
       "      <td>983.10</td>\n",
       "      <td>985.54</td>\n",
       "      <td>1639294</td>\n",
       "    </tr>\n",
       "    <tr>\n",
       "      <th>3</th>\n",
       "      <td>20-Oct-17</td>\n",
       "      <td>1007.05</td>\n",
       "      <td>1008.65</td>\n",
       "      <td>1002.27</td>\n",
       "      <td>1005.07</td>\n",
       "      <td>1606031</td>\n",
       "    </tr>\n",
       "    <tr>\n",
       "      <th>4</th>\n",
       "      <td>19-Oct-17</td>\n",
       "      <td>1004.75</td>\n",
       "      <td>1007.32</td>\n",
       "      <td>997.30</td>\n",
       "      <td>1001.84</td>\n",
       "      <td>1714243</td>\n",
       "    </tr>\n",
       "  </tbody>\n",
       "</table>\n",
       "</div>"
      ],
      "text/plain": [
       "       ﻿Date     Open     High      Low    Close   Volume\n",
       "0  25-Oct-17   986.27   994.43   977.72   991.46  1395282\n",
       "1  24-Oct-17   986.50   989.26   977.08   988.49  1445129\n",
       "2  23-Oct-17  1005.18  1005.79   983.10   985.54  1639294\n",
       "3  20-Oct-17  1007.05  1008.65  1002.27  1005.07  1606031\n",
       "4  19-Oct-17  1004.75  1007.32   997.30  1001.84  1714243"
      ]
     },
     "execution_count": 105,
     "metadata": {},
     "output_type": "execute_result"
    }
   ],
   "source": [
    "test.head()"
   ]
  },
  {
   "cell_type": "code",
   "execution_count": 117,
   "metadata": {},
   "outputs": [],
   "source": [
    "test= test.iloc[:,1]"
   ]
  },
  {
   "cell_type": "code",
   "execution_count": 72,
   "metadata": {},
   "outputs": [],
   "source": [
    "#test_data = test[:-1]\n",
    "#test_label = test[1:]"
   ]
  },
  {
   "cell_type": "code",
   "execution_count": 112,
   "metadata": {},
   "outputs": [],
   "source": [
    "test = scaler.transform(test.reshape(-1,1))\n",
    "#test_label = scaler.transform(test_label.reshape(-1,1))"
   ]
  },
  {
   "cell_type": "code",
   "execution_count": 113,
   "metadata": {},
   "outputs": [],
   "source": [
    "\n",
    "test = test.reshape(-1,1,1)"
   ]
  },
  {
   "cell_type": "code",
   "execution_count": 114,
   "metadata": {},
   "outputs": [],
   "source": [
    "res = model.predict(test)\n",
    "res = scaler.inverse_transform(res)"
   ]
  },
  {
   "cell_type": "code",
   "execution_count": 51,
   "metadata": {},
   "outputs": [],
   "source": [
    "import matplotlib.pyplot as plt"
   ]
  },
  {
   "cell_type": "code",
   "execution_count": 74,
   "metadata": {},
   "outputs": [],
   "source": [
    "test_data = np.reshape(test_data,(-1,1,1))"
   ]
  },
  {
   "cell_type": "code",
   "execution_count": 75,
   "metadata": {},
   "outputs": [],
   "source": [
    "res = model.predict(test_data)"
   ]
  },
  {
   "cell_type": "code",
   "execution_count": 77,
   "metadata": {},
   "outputs": [],
   "source": [
    "test_label = scaler.inverse_transform(test_label)"
   ]
  },
  {
   "cell_type": "code",
   "execution_count": 91,
   "metadata": {},
   "outputs": [],
   "source": [
    "res = scaler.inverse_transform(res)"
   ]
  },
  {
   "cell_type": "code",
   "execution_count": 118,
   "metadata": {},
   "outputs": [
    {
     "data": {
      "text/plain": [
       "[<matplotlib.lines.Line2D at 0x207e42d46d8>]"
      ]
     },
     "execution_count": 118,
     "metadata": {},
     "output_type": "execute_result"
    },
    {
     "data": {
      "image/png": "[encoded data removed]",
      "text/plain": [
       "<matplotlib.figure.Figure at 0x207e42d4780>"
      ]
     },
     "metadata": {},
     "output_type": "display_data"
    }
   ],
   "source": [
    "\n",
    "plt.plot(test,color='red')\n",
    "plt.plot(res,color='blue')"
   ]
  },
  {
   "cell_type": "code",
   "execution_count": 102,
   "metadata": {},
   "outputs": [
    {
     "data": {
      "text/plain": [
       "(21, 1)"
      ]
     },
     "execution_count": 102,
     "metadata": {},
     "output_type": "execute_result"
    }
   ],
   "source": [
    "res.shape"
   ]
  },
  {
   "cell_type": "code",
   "execution_count": 103,
   "metadata": {},
   "outputs": [
    {
     "data": {
      "text/plain": [
       "(21,)"
      ]
     },
     "execution_count": 103,
     "metadata": {},
     "output_type": "execute_result"
    }
   ],
   "source": [
    "test.shape"
   ]
  }
 ],
 "metadata": {
  "kernelspec": {
   "display_name": "Python 3",
   "language": "python",
   "name": "python3"
  },
  "language_info": {
   "codemirror_mode": {
    "name": "ipython",
    "version": 3
   },
   "file_extension": ".py",
   "mimetype": "text/x-python",
   "name": "python",
   "nbconvert_exporter": "python",
   "pygments_lexer": "ipython3",
   "version": "3.6.4"
  }
 },
 "nbformat": 4,
 "nbformat_minor": 2
}
