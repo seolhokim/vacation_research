{
 "cells": [
  {
   "cell_type": "code",
   "execution_count": 1,
   "metadata": {},
   "outputs": [],
   "source": [
    "import pandas as pd\n",
    "import numpy as np\n",
    "import seaborn as sns\n",
    "import matplotlib.pyplot as plt\n",
    "from scipy import stats\n",
    "import math"
   ]
  },
  {
   "cell_type": "code",
   "execution_count": 2,
   "metadata": {},
   "outputs": [
    {
     "data": {
      "text/html": [
       "<div>\n",
       "<table border=\"1\" class=\"dataframe\">\n",
       "  <thead>\n",
       "    <tr style=\"text-align: right;\">\n",
       "      <th></th>\n",
       "      <th>date</th>\n",
       "      <th>anger_score</th>\n",
       "      <th>disgust_score</th>\n",
       "      <th>fear_score</th>\n",
       "      <th>joy_score</th>\n",
       "      <th>sadness_score</th>\n",
       "      <th>anger_count</th>\n",
       "      <th>disgust_count</th>\n",
       "      <th>fear_count</th>\n",
       "      <th>joy_count</th>\n",
       "      <th>sadness_count</th>\n",
       "      <th>close</th>\n",
       "      <th>open</th>\n",
       "      <th>high</th>\n",
       "      <th>low</th>\n",
       "      <th>change</th>\n",
       "    </tr>\n",
       "  </thead>\n",
       "  <tbody>\n",
       "    <tr>\n",
       "      <th>0</th>\n",
       "      <td>20110411</td>\n",
       "      <td>23.678598</td>\n",
       "      <td>1.862068</td>\n",
       "      <td>3.365532</td>\n",
       "      <td>129.260966</td>\n",
       "      <td>22.046661</td>\n",
       "      <td>28</td>\n",
       "      <td>2</td>\n",
       "      <td>4</td>\n",
       "      <td>150</td>\n",
       "      <td>26</td>\n",
       "      <td>12381.11</td>\n",
       "      <td>12380.43</td>\n",
       "      <td>12476.93</td>\n",
       "      <td>12319.35</td>\n",
       "      <td>0.0001</td>\n",
       "    </tr>\n",
       "    <tr>\n",
       "      <th>1</th>\n",
       "      <td>20110412</td>\n",
       "      <td>23.436641</td>\n",
       "      <td>1.568504</td>\n",
       "      <td>1.807040</td>\n",
       "      <td>110.107599</td>\n",
       "      <td>28.552481</td>\n",
       "      <td>28</td>\n",
       "      <td>2</td>\n",
       "      <td>2</td>\n",
       "      <td>128</td>\n",
       "      <td>33</td>\n",
       "      <td>12263.58</td>\n",
       "      <td>12381.04</td>\n",
       "      <td>12381.04</td>\n",
       "      <td>12185.09</td>\n",
       "      <td>-0.9500</td>\n",
       "    </tr>\n",
       "    <tr>\n",
       "      <th>2</th>\n",
       "      <td>20110413</td>\n",
       "      <td>17.595715</td>\n",
       "      <td>3.441165</td>\n",
       "      <td>3.351268</td>\n",
       "      <td>103.535217</td>\n",
       "      <td>17.206766</td>\n",
       "      <td>21</td>\n",
       "      <td>4</td>\n",
       "      <td>4</td>\n",
       "      <td>121</td>\n",
       "      <td>21</td>\n",
       "      <td>12270.99</td>\n",
       "      <td>12263.73</td>\n",
       "      <td>12372.94</td>\n",
       "      <td>12203.63</td>\n",
       "      <td>0.0006</td>\n",
       "    </tr>\n",
       "    <tr>\n",
       "      <th>3</th>\n",
       "      <td>20110414</td>\n",
       "      <td>16.065135</td>\n",
       "      <td>4.921378</td>\n",
       "      <td>5.183304</td>\n",
       "      <td>102.417106</td>\n",
       "      <td>15.457086</td>\n",
       "      <td>19</td>\n",
       "      <td>6</td>\n",
       "      <td>6</td>\n",
       "      <td>121</td>\n",
       "      <td>18</td>\n",
       "      <td>12285.15</td>\n",
       "      <td>12270.24</td>\n",
       "      <td>12332.71</td>\n",
       "      <td>12137.98</td>\n",
       "      <td>0.0012</td>\n",
       "    </tr>\n",
       "    <tr>\n",
       "      <th>4</th>\n",
       "      <td>20110415</td>\n",
       "      <td>16.869910</td>\n",
       "      <td>1.555661</td>\n",
       "      <td>3.334624</td>\n",
       "      <td>121.630811</td>\n",
       "      <td>14.709462</td>\n",
       "      <td>20</td>\n",
       "      <td>2</td>\n",
       "      <td>4</td>\n",
       "      <td>141</td>\n",
       "      <td>18</td>\n",
       "      <td>12341.83</td>\n",
       "      <td>12285.45</td>\n",
       "      <td>12402.61</td>\n",
       "      <td>12238.34</td>\n",
       "      <td>0.0046</td>\n",
       "    </tr>\n",
       "  </tbody>\n",
       "</table>\n",
       "</div>"
      ],
      "text/plain": [
       "       date  anger_score  disgust_score  fear_score   joy_score  \\\n",
       "0  20110411    23.678598       1.862068    3.365532  129.260966   \n",
       "1  20110412    23.436641       1.568504    1.807040  110.107599   \n",
       "2  20110413    17.595715       3.441165    3.351268  103.535217   \n",
       "3  20110414    16.065135       4.921378    5.183304  102.417106   \n",
       "4  20110415    16.869910       1.555661    3.334624  121.630811   \n",
       "\n",
       "   sadness_score  anger_count  disgust_count  fear_count  joy_count  \\\n",
       "0      22.046661           28              2           4        150   \n",
       "1      28.552481           28              2           2        128   \n",
       "2      17.206766           21              4           4        121   \n",
       "3      15.457086           19              6           6        121   \n",
       "4      14.709462           20              2           4        141   \n",
       "\n",
       "   sadness_count     close      open      high       low  change  \n",
       "0             26  12381.11  12380.43  12476.93  12319.35  0.0001  \n",
       "1             33  12263.58  12381.04  12381.04  12185.09 -0.9500  \n",
       "2             21  12270.99  12263.73  12372.94  12203.63  0.0006  \n",
       "3             18  12285.15  12270.24  12332.71  12137.98  0.0012  \n",
       "4             18  12341.83  12285.45  12402.61  12238.34  0.0046  "
      ]
     },
     "execution_count": 2,
     "metadata": {},
     "output_type": "execute_result"
    }
   ],
   "source": [
    "train = pd.read_csv(\"dji.csv\")\n",
    "train = train.drop('count',axis=1)\n",
    "train.head()"
   ]
  },
  {
   "cell_type": "code",
   "execution_count": 23,
   "metadata": {},
   "outputs": [
    {
     "data": {
      "text/plain": [
       "date             0\n",
       "anger_score      0\n",
       "disgust_score    0\n",
       "fear_score       0\n",
       "joy_score        0\n",
       "sadness_score    0\n",
       "anger_count      0\n",
       "disgust_count    0\n",
       "fear_count       0\n",
       "joy_count        0\n",
       "sadness_count    0\n",
       "close            0\n",
       "open             0\n",
       "high             0\n",
       "low              0\n",
       "change           0\n",
       "dtype: int64"
      ]
     },
     "execution_count": 23,
     "metadata": {},
     "output_type": "execute_result"
    }
   ],
   "source": [
    "train.isnull().sum()"
   ]
  },
  {
   "cell_type": "code",
   "execution_count": 3,
   "metadata": {},
   "outputs": [],
   "source": [
    "train['date'] = train['date'].apply(lambda x : str(x))\n",
    "year = train['date'].str[0:4]\n",
    "month = train['date'].str[4:6]\n",
    "day = train['date'].str[6:]\n",
    "train = train.drop('date',axis=1)\n",
    "train = pd.concat([year,month,day,train],axis=1)"
   ]
  },
  {
   "cell_type": "code",
   "execution_count": 4,
   "metadata": {},
   "outputs": [],
   "source": [
    "train.columns = ['year', 'month', 'day', 'anger_score', 'disgust_score', 'fear_score',\n",
    "       'joy_score', 'sadness_score', 'anger_count', 'disgust_count',\n",
    "       'fear_count', 'joy_count', 'sadness_count','close', 'open',\n",
    "       'high', 'low', 'change']"
   ]
  },
  {
   "cell_type": "code",
   "execution_count": 5,
   "metadata": {},
   "outputs": [
    {
     "data": {
      "text/plain": [
       "<matplotlib.axes._subplots.AxesSubplot at 0x246851c8320>"
      ]
     },
     "execution_count": 5,
     "metadata": {},
     "output_type": "execute_result"
    }
   ],
   "source": [
    "%matplotlib tk\n",
    "#%matplotlib inline\n",
    "sns.set(rc={'figure.figsize':(11.7,8.27)})\n",
    "fig, axes = plt.subplots(1,3,squeeze=False)\n",
    "plt.figure(figsize=(40,20))\n",
    "sns.boxplot(data = train, y = 'close', x = 'year',ax= axes[0][0])\n",
    "sns.boxplot(data = train, y = 'close', x = 'month',ax= axes[0][1])\n",
    "sns.boxplot(data = train, y = 'close', x = 'day',ax= axes[0][2])\n"
   ]
  },
  {
   "cell_type": "code",
   "execution_count": 6,
   "metadata": {},
   "outputs": [],
   "source": [
    "%matplotlib tk\n",
    "#plt.figure(figsize=(60,80))\n",
    "sns.pairplot(data = train.iloc[:,[4,5,6,7,8,13]])\n",
    "plt.show()"
   ]
  },
  {
   "cell_type": "code",
   "execution_count": 7,
   "metadata": {},
   "outputs": [],
   "source": [
    "%matplotlib tk\n",
    "#plt.figure(figsize=(60,80))\n",
    "sns.pairplot(data = train.iloc[:,[9,10,11,12,13]])\n",
    "plt.show()"
   ]
  },
  {
   "cell_type": "code",
   "execution_count": 66,
   "metadata": {},
   "outputs": [
    {
     "data": {
      "text/plain": [
       "joy_score        0.351618\n",
       "joy_count        0.349471\n",
       "change           0.283326\n",
       "sadness_count    0.264606\n",
       "sadness_score    0.264418\n",
       "disgust_score    0.143431\n",
       "disgust_count    0.142194\n",
       "anger_count      0.135649\n",
       "anger_score      0.135138\n",
       "fear_score       0.057058\n",
       "fear_count       0.053915\n",
       "Name: close, dtype: float64"
      ]
     },
     "execution_count": 66,
     "metadata": {},
     "output_type": "execute_result"
    }
   ],
   "source": [
    "train.corr()['close'].sort_values(ascending=False)[4:]"
   ]
  },
  {
   "cell_type": "code",
   "execution_count": 72,
   "metadata": {},
   "outputs": [
    {
     "data": {
      "text/plain": [
       "joy_score        0.132604\n",
       "joy_count        0.131471\n",
       "sadness_count    0.088584\n",
       "sadness_score    0.082264\n",
       "anger_count      0.020200\n",
       "anger_score      0.018540\n",
       "disgust_count   -0.003039\n",
       "disgust_score   -0.005274\n",
       "fear_count      -0.017380\n",
       "fear_score      -0.021698\n",
       "Name: change, dtype: float64"
      ]
     },
     "execution_count": 72,
     "metadata": {},
     "output_type": "execute_result"
    }
   ],
   "source": [
    "train.corr()['change'].sort_values(ascending=False)[5:]"
   ]
  },
  {
   "cell_type": "code",
   "execution_count": 82,
   "metadata": {},
   "outputs": [
    {
     "data": {
      "image/png": "[encoded data removed]",
      "text/plain": [
       "<matplotlib.figure.Figure at 0x28806ca1ac8>"
      ]
     },
     "metadata": {},
     "output_type": "display_data"
    }
   ],
   "source": [
    "%matplotlib inline\n",
    "plt.figure(figsize=(12,8))\n",
    "stats.probplot(train['close'],plot=plt)\n",
    "plt.show()"
   ]
  },
  {
   "cell_type": "code",
   "execution_count": 81,
   "metadata": {},
   "outputs": [
    {
     "data": {
      "text/plain": [
       "<matplotlib.axes._subplots.AxesSubplot at 0x28807ef54a8>"
      ]
     },
     "execution_count": 81,
     "metadata": {},
     "output_type": "execute_result"
    },
    {
     "data": {
      "image/png": "[encoded data removed]",
      "text/plain": [
       "<matplotlib.figure.Figure at 0x28812020828>"
      ]
     },
     "metadata": {},
     "output_type": "display_data"
    }
   ],
   "source": [
    "sns.distplot((train['close']))"
   ]
  },
  {
   "cell_type": "code",
   "execution_count": 28,
   "metadata": {},
   "outputs": [
    {
     "ename": "TypeError",
     "evalue": "distplot() got an unexpected keyword argument 'plot'",
     "output_type": "error",
     "traceback": [
      "\u001b[1;31m---------------------------------------------------------------------------\u001b[0m",
      "\u001b[1;31mTypeError\u001b[0m                                 Traceback (most recent call last)",
      "\u001b[1;32m<ipython-input-28-993af7441d49>\u001b[0m in \u001b[0;36m<module>\u001b[1;34m()\u001b[0m\n\u001b[0;32m      1\u001b[0m \u001b[1;32mfrom\u001b[0m \u001b[0mscipy\u001b[0m\u001b[1;33m.\u001b[0m\u001b[0mstats\u001b[0m \u001b[1;32mimport\u001b[0m \u001b[0mnorm\u001b[0m\u001b[1;33m\u001b[0m\u001b[0m\n\u001b[0;32m      2\u001b[0m \u001b[0mclose_log\u001b[0m \u001b[1;33m=\u001b[0m \u001b[0mnp\u001b[0m\u001b[1;33m.\u001b[0m\u001b[0mlog1p\u001b[0m\u001b[1;33m(\u001b[0m\u001b[0mtrain\u001b[0m\u001b[1;33m[\u001b[0m\u001b[1;34m'close'\u001b[0m\u001b[1;33m]\u001b[0m\u001b[1;33m)\u001b[0m\u001b[1;33m\u001b[0m\u001b[0m\n\u001b[1;32m----> 3\u001b[1;33m \u001b[0msns\u001b[0m\u001b[1;33m.\u001b[0m\u001b[0mdistplot\u001b[0m\u001b[1;33m(\u001b[0m\u001b[0mclose_log\u001b[0m\u001b[1;33m,\u001b[0m\u001b[0mfit\u001b[0m\u001b[1;33m=\u001b[0m\u001b[0mnorm\u001b[0m\u001b[1;33m,\u001b[0m\u001b[0mplot\u001b[0m\u001b[1;33m=\u001b[0m\u001b[0mplt\u001b[0m\u001b[1;33m)\u001b[0m\u001b[1;33m\u001b[0m\u001b[0m\n\u001b[0m",
      "\u001b[1;31mTypeError\u001b[0m: distplot() got an unexpected keyword argument 'plot'"
     ]
    }
   ],
   "source": [
    "from scipy.stats import norm\n",
    "close_log = np.log1p(train['close'])\n",
    "sns.distplot(close_log,fit=norm)"
   ]
  },
  {
   "cell_type": "code",
   "execution_count": 31,
   "metadata": {},
   "outputs": [
    {
     "data": {
      "image/png": "[encoded data removed]",
      "text/plain": [
       "<matplotlib.figure.Figure at 0x2aefedeb860>"
      ]
     },
     "metadata": {},
     "output_type": "display_data"
    }
   ],
   "source": [
    "%matplotlib inline\n",
    "stats.probplot(close_log,fit=norm,plot=plt)\n",
    "plt.show()"
   ]
  },
  {
   "cell_type": "code",
   "execution_count": 90,
   "metadata": {},
   "outputs": [
    {
     "data": {
      "text/plain": [
       "(12419.378360215054, 666.4088370401569)"
      ]
     },
     "execution_count": 90,
     "metadata": {},
     "output_type": "execute_result"
    }
   ],
   "source": [
    "norm.fit(train['close'])"
   ]
  },
  {
   "cell_type": "code",
   "execution_count": 91,
   "metadata": {},
   "outputs": [
    {
     "data": {
      "text/plain": [
       "(9.425615830359027, 0.05474075318932476)"
      ]
     },
     "execution_count": 91,
     "metadata": {},
     "output_type": "execute_result"
    }
   ],
   "source": [
    "norm.fit(close_log)"
   ]
  },
  {
   "cell_type": "code",
   "execution_count": 32,
   "metadata": {},
   "outputs": [
    {
     "data": {
      "text/html": [
       "<div>\n",
       "<table border=\"1\" class=\"dataframe\">\n",
       "  <thead>\n",
       "    <tr style=\"text-align: right;\">\n",
       "      <th></th>\n",
       "      <th>year</th>\n",
       "      <th>month</th>\n",
       "      <th>day</th>\n",
       "      <th>anger_score</th>\n",
       "      <th>disgust_score</th>\n",
       "      <th>fear_score</th>\n",
       "      <th>joy_score</th>\n",
       "      <th>sadness_score</th>\n",
       "      <th>anger_count</th>\n",
       "      <th>disgust_count</th>\n",
       "      <th>fear_count</th>\n",
       "      <th>joy_count</th>\n",
       "      <th>sadness_count</th>\n",
       "      <th>close</th>\n",
       "      <th>open</th>\n",
       "      <th>high</th>\n",
       "      <th>low</th>\n",
       "      <th>change</th>\n",
       "    </tr>\n",
       "  </thead>\n",
       "  <tbody>\n",
       "    <tr>\n",
       "      <th>0</th>\n",
       "      <td>2011</td>\n",
       "      <td>04</td>\n",
       "      <td>11</td>\n",
       "      <td>23.678598</td>\n",
       "      <td>1.862068</td>\n",
       "      <td>3.365532</td>\n",
       "      <td>129.260966</td>\n",
       "      <td>22.046661</td>\n",
       "      <td>28</td>\n",
       "      <td>2</td>\n",
       "      <td>4</td>\n",
       "      <td>150</td>\n",
       "      <td>26</td>\n",
       "      <td>12381.11</td>\n",
       "      <td>12380.43</td>\n",
       "      <td>12476.93</td>\n",
       "      <td>12319.35</td>\n",
       "      <td>0.0001</td>\n",
       "    </tr>\n",
       "    <tr>\n",
       "      <th>1</th>\n",
       "      <td>2011</td>\n",
       "      <td>04</td>\n",
       "      <td>12</td>\n",
       "      <td>23.436641</td>\n",
       "      <td>1.568504</td>\n",
       "      <td>1.807040</td>\n",
       "      <td>110.107599</td>\n",
       "      <td>28.552481</td>\n",
       "      <td>28</td>\n",
       "      <td>2</td>\n",
       "      <td>2</td>\n",
       "      <td>128</td>\n",
       "      <td>33</td>\n",
       "      <td>12263.58</td>\n",
       "      <td>12381.04</td>\n",
       "      <td>12381.04</td>\n",
       "      <td>12185.09</td>\n",
       "      <td>-0.9500</td>\n",
       "    </tr>\n",
       "    <tr>\n",
       "      <th>2</th>\n",
       "      <td>2011</td>\n",
       "      <td>04</td>\n",
       "      <td>13</td>\n",
       "      <td>17.595715</td>\n",
       "      <td>3.441165</td>\n",
       "      <td>3.351268</td>\n",
       "      <td>103.535217</td>\n",
       "      <td>17.206766</td>\n",
       "      <td>21</td>\n",
       "      <td>4</td>\n",
       "      <td>4</td>\n",
       "      <td>121</td>\n",
       "      <td>21</td>\n",
       "      <td>12270.99</td>\n",
       "      <td>12263.73</td>\n",
       "      <td>12372.94</td>\n",
       "      <td>12203.63</td>\n",
       "      <td>0.0006</td>\n",
       "    </tr>\n",
       "    <tr>\n",
       "      <th>3</th>\n",
       "      <td>2011</td>\n",
       "      <td>04</td>\n",
       "      <td>14</td>\n",
       "      <td>16.065135</td>\n",
       "      <td>4.921378</td>\n",
       "      <td>5.183304</td>\n",
       "      <td>102.417106</td>\n",
       "      <td>15.457086</td>\n",
       "      <td>19</td>\n",
       "      <td>6</td>\n",
       "      <td>6</td>\n",
       "      <td>121</td>\n",
       "      <td>18</td>\n",
       "      <td>12285.15</td>\n",
       "      <td>12270.24</td>\n",
       "      <td>12332.71</td>\n",
       "      <td>12137.98</td>\n",
       "      <td>0.0012</td>\n",
       "    </tr>\n",
       "    <tr>\n",
       "      <th>4</th>\n",
       "      <td>2011</td>\n",
       "      <td>04</td>\n",
       "      <td>15</td>\n",
       "      <td>16.869910</td>\n",
       "      <td>1.555661</td>\n",
       "      <td>3.334624</td>\n",
       "      <td>121.630811</td>\n",
       "      <td>14.709462</td>\n",
       "      <td>20</td>\n",
       "      <td>2</td>\n",
       "      <td>4</td>\n",
       "      <td>141</td>\n",
       "      <td>18</td>\n",
       "      <td>12341.83</td>\n",
       "      <td>12285.45</td>\n",
       "      <td>12402.61</td>\n",
       "      <td>12238.34</td>\n",
       "      <td>0.0046</td>\n",
       "    </tr>\n",
       "  </tbody>\n",
       "</table>\n",
       "</div>"
      ],
      "text/plain": [
       "   year month day  anger_score  disgust_score  fear_score   joy_score  \\\n",
       "0  2011    04  11    23.678598       1.862068    3.365532  129.260966   \n",
       "1  2011    04  12    23.436641       1.568504    1.807040  110.107599   \n",
       "2  2011    04  13    17.595715       3.441165    3.351268  103.535217   \n",
       "3  2011    04  14    16.065135       4.921378    5.183304  102.417106   \n",
       "4  2011    04  15    16.869910       1.555661    3.334624  121.630811   \n",
       "\n",
       "   sadness_score  anger_count  disgust_count  fear_count  joy_count  \\\n",
       "0      22.046661           28              2           4        150   \n",
       "1      28.552481           28              2           2        128   \n",
       "2      17.206766           21              4           4        121   \n",
       "3      15.457086           19              6           6        121   \n",
       "4      14.709462           20              2           4        141   \n",
       "\n",
       "   sadness_count     close      open      high       low  change  \n",
       "0             26  12381.11  12380.43  12476.93  12319.35  0.0001  \n",
       "1             33  12263.58  12381.04  12381.04  12185.09 -0.9500  \n",
       "2             21  12270.99  12263.73  12372.94  12203.63  0.0006  \n",
       "3             18  12285.15  12270.24  12332.71  12137.98  0.0012  \n",
       "4             18  12341.83  12285.45  12402.61  12238.34  0.0046  "
      ]
     },
     "execution_count": 32,
     "metadata": {},
     "output_type": "execute_result"
    }
   ],
   "source": [
    "train.head()"
   ]
  },
  {
   "cell_type": "code",
   "execution_count": 19,
   "metadata": {},
   "outputs": [],
   "source": [
    "train.to_csv(\"data.csv\",index=False)"
   ]
  },
  {
   "cell_type": "code",
   "execution_count": 18,
   "metadata": {},
   "outputs": [
    {
     "data": {
      "text/plain": [
       "0    12381.11\n",
       "1    12263.58\n",
       "2    12270.99\n",
       "3    12285.15\n",
       "4    12341.83\n",
       "Name: close, dtype: float64"
      ]
     },
     "execution_count": 18,
     "metadata": {},
     "output_type": "execute_result"
    }
   ],
   "source": []
  },
  {
   "cell_type": "code",
   "execution_count": null,
   "metadata": {},
   "outputs": [],
   "source": []
  }
 ],
 "metadata": {
  "kernelspec": {
   "display_name": "Python 3",
   "language": "python",
   "name": "python3"
  },
  "language_info": {
   "codemirror_mode": {
    "name": "ipython",
    "version": 3
   },
   "file_extension": ".py",
   "mimetype": "text/x-python",
   "name": "python",
   "nbconvert_exporter": "python",
   "pygments_lexer": "ipython3",
   "version": "3.6.4"
  }
 },
 "nbformat": 4,
 "nbformat_minor": 2
}
