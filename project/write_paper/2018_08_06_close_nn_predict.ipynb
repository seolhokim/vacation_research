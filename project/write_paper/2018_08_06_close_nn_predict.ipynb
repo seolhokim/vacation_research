{
 "cells": [
  {
   "cell_type": "code",
   "execution_count": 19,
   "metadata": {},
   "outputs": [],
   "source": [
    "import pandas as pd\n",
    "import seaborn as sns\n",
    "import numpy as np"
   ]
  },
  {
   "cell_type": "code",
   "execution_count": 20,
   "metadata": {},
   "outputs": [],
   "source": [
    "from sklearn.preprocessing import MinMaxScaler, RobustScaler\n",
    "from keras.layers import Input,Dense,Dropout\n",
    "from keras.models import Model\n",
    "from sklearn.metrics import accuracy_score\n",
    "import matplotlib.pyplot as plt"
   ]
  },
  {
   "cell_type": "code",
   "execution_count": 21,
   "metadata": {},
   "outputs": [],
   "source": [
    "data = pd.read_csv(\"data.csv\")"
   ]
  },
  {
   "cell_type": "code",
   "execution_count": 22,
   "metadata": {},
   "outputs": [
    {
     "data": {
      "text/html": [
       "<div>\n",
       "<table border=\"1\" class=\"dataframe\">\n",
       "  <thead>\n",
       "    <tr style=\"text-align: right;\">\n",
       "      <th></th>\n",
       "      <th>year</th>\n",
       "      <th>month</th>\n",
       "      <th>day</th>\n",
       "      <th>anger_score</th>\n",
       "      <th>disgust_score</th>\n",
       "      <th>fear_score</th>\n",
       "      <th>joy_score</th>\n",
       "      <th>sadness_score</th>\n",
       "      <th>anger_count</th>\n",
       "      <th>disgust_count</th>\n",
       "      <th>fear_count</th>\n",
       "      <th>joy_count</th>\n",
       "      <th>sadness_count</th>\n",
       "      <th>close</th>\n",
       "      <th>open</th>\n",
       "      <th>high</th>\n",
       "      <th>low</th>\n",
       "      <th>change</th>\n",
       "    </tr>\n",
       "  </thead>\n",
       "  <tbody>\n",
       "    <tr>\n",
       "      <th>0</th>\n",
       "      <td>2011</td>\n",
       "      <td>4</td>\n",
       "      <td>11</td>\n",
       "      <td>23.678598</td>\n",
       "      <td>1.862068</td>\n",
       "      <td>3.365532</td>\n",
       "      <td>129.260966</td>\n",
       "      <td>22.046661</td>\n",
       "      <td>28</td>\n",
       "      <td>2</td>\n",
       "      <td>4</td>\n",
       "      <td>150</td>\n",
       "      <td>26</td>\n",
       "      <td>12381.11</td>\n",
       "      <td>12380.43</td>\n",
       "      <td>12476.93</td>\n",
       "      <td>12319.35</td>\n",
       "      <td>0.0001</td>\n",
       "    </tr>\n",
       "    <tr>\n",
       "      <th>1</th>\n",
       "      <td>2011</td>\n",
       "      <td>4</td>\n",
       "      <td>12</td>\n",
       "      <td>23.436641</td>\n",
       "      <td>1.568504</td>\n",
       "      <td>1.807040</td>\n",
       "      <td>110.107599</td>\n",
       "      <td>28.552481</td>\n",
       "      <td>28</td>\n",
       "      <td>2</td>\n",
       "      <td>2</td>\n",
       "      <td>128</td>\n",
       "      <td>33</td>\n",
       "      <td>12263.58</td>\n",
       "      <td>12381.04</td>\n",
       "      <td>12381.04</td>\n",
       "      <td>12185.09</td>\n",
       "      <td>-0.9500</td>\n",
       "    </tr>\n",
       "    <tr>\n",
       "      <th>2</th>\n",
       "      <td>2011</td>\n",
       "      <td>4</td>\n",
       "      <td>13</td>\n",
       "      <td>17.595715</td>\n",
       "      <td>3.441165</td>\n",
       "      <td>3.351268</td>\n",
       "      <td>103.535217</td>\n",
       "      <td>17.206766</td>\n",
       "      <td>21</td>\n",
       "      <td>4</td>\n",
       "      <td>4</td>\n",
       "      <td>121</td>\n",
       "      <td>21</td>\n",
       "      <td>12270.99</td>\n",
       "      <td>12263.73</td>\n",
       "      <td>12372.94</td>\n",
       "      <td>12203.63</td>\n",
       "      <td>0.0006</td>\n",
       "    </tr>\n",
       "    <tr>\n",
       "      <th>3</th>\n",
       "      <td>2011</td>\n",
       "      <td>4</td>\n",
       "      <td>14</td>\n",
       "      <td>16.065135</td>\n",
       "      <td>4.921378</td>\n",
       "      <td>5.183304</td>\n",
       "      <td>102.417106</td>\n",
       "      <td>15.457086</td>\n",
       "      <td>19</td>\n",
       "      <td>6</td>\n",
       "      <td>6</td>\n",
       "      <td>121</td>\n",
       "      <td>18</td>\n",
       "      <td>12285.15</td>\n",
       "      <td>12270.24</td>\n",
       "      <td>12332.71</td>\n",
       "      <td>12137.98</td>\n",
       "      <td>0.0012</td>\n",
       "    </tr>\n",
       "    <tr>\n",
       "      <th>4</th>\n",
       "      <td>2011</td>\n",
       "      <td>4</td>\n",
       "      <td>15</td>\n",
       "      <td>16.869910</td>\n",
       "      <td>1.555661</td>\n",
       "      <td>3.334624</td>\n",
       "      <td>121.630811</td>\n",
       "      <td>14.709462</td>\n",
       "      <td>20</td>\n",
       "      <td>2</td>\n",
       "      <td>4</td>\n",
       "      <td>141</td>\n",
       "      <td>18</td>\n",
       "      <td>12341.83</td>\n",
       "      <td>12285.45</td>\n",
       "      <td>12402.61</td>\n",
       "      <td>12238.34</td>\n",
       "      <td>0.0046</td>\n",
       "    </tr>\n",
       "  </tbody>\n",
       "</table>\n",
       "</div>"
      ],
      "text/plain": [
       "   year  month  day  anger_score  disgust_score  fear_score   joy_score  \\\n",
       "0  2011      4   11    23.678598       1.862068    3.365532  129.260966   \n",
       "1  2011      4   12    23.436641       1.568504    1.807040  110.107599   \n",
       "2  2011      4   13    17.595715       3.441165    3.351268  103.535217   \n",
       "3  2011      4   14    16.065135       4.921378    5.183304  102.417106   \n",
       "4  2011      4   15    16.869910       1.555661    3.334624  121.630811   \n",
       "\n",
       "   sadness_score  anger_count  disgust_count  fear_count  joy_count  \\\n",
       "0      22.046661           28              2           4        150   \n",
       "1      28.552481           28              2           2        128   \n",
       "2      17.206766           21              4           4        121   \n",
       "3      15.457086           19              6           6        121   \n",
       "4      14.709462           20              2           4        141   \n",
       "\n",
       "   sadness_count     close      open      high       low  change  \n",
       "0             26  12381.11  12380.43  12476.93  12319.35  0.0001  \n",
       "1             33  12263.58  12381.04  12381.04  12185.09 -0.9500  \n",
       "2             21  12270.99  12263.73  12372.94  12203.63  0.0006  \n",
       "3             18  12285.15  12270.24  12332.71  12137.98  0.0012  \n",
       "4             18  12341.83  12285.45  12402.61  12238.34  0.0046  "
      ]
     },
     "execution_count": 22,
     "metadata": {},
     "output_type": "execute_result"
    }
   ],
   "source": [
    "data.head()"
   ]
  },
  {
   "cell_type": "code",
   "execution_count": 23,
   "metadata": {},
   "outputs": [],
   "source": [
    "trainable_data = data.iloc[:,13:-1]"
   ]
  },
  {
   "cell_type": "code",
   "execution_count": 24,
   "metadata": {},
   "outputs": [],
   "source": [
    "trainable_label = trainable_data.iloc[:,-4:-3]"
   ]
  },
  {
   "cell_type": "code",
   "execution_count": null,
   "metadata": {},
   "outputs": [],
   "source": []
  },
  {
   "cell_type": "code",
   "execution_count": 25,
   "metadata": {},
   "outputs": [],
   "source": [
    "#2일 뒤 예측\n",
    "trainable_data = trainable_data.iloc[:-2,:]\n",
    "trainable_label = trainable_label.iloc[2:,:]"
   ]
  },
  {
   "cell_type": "code",
   "execution_count": 26,
   "metadata": {},
   "outputs": [],
   "source": [
    "train_data = trainable_data.iloc[:-50,:]\n",
    "test_data = trainable_data.iloc[-50:,:]\n",
    "train_label = trainable_label.iloc[:-50,:]\n",
    "test_label = trainable_label.iloc[-50:,:]"
   ]
  },
  {
   "cell_type": "code",
   "execution_count": 27,
   "metadata": {},
   "outputs": [
    {
     "data": {
      "text/plain": [
       "<matplotlib.axes._subplots.AxesSubplot at 0x27bdd083198>"
      ]
     },
     "execution_count": 27,
     "metadata": {},
     "output_type": "execute_result"
    },
    {
     "data": {
      "image/png": "[encoded data removed]",
      "text/plain": [
       "<matplotlib.figure.Figure at 0x27bdd083438>"
      ]
     },
     "metadata": {},
     "output_type": "display_data"
    }
   ],
   "source": [
    "sns.distplot(train_data.iloc[:,0])"
   ]
  },
  {
   "cell_type": "code",
   "execution_count": 28,
   "metadata": {},
   "outputs": [],
   "source": [
    "data_scaler = MinMaxScaler()\n",
    "label_scaler = MinMaxScaler()\n",
    "scaled_train_data = data_scaler.fit_transform(train_data)\n",
    "scaled_test_data = data_scaler.transform(test_data)\n",
    "scaled_train_label = label_scaler.fit_transform(train_label)\n",
    "scaled_test_label = label_scaler.transform(test_label)"
   ]
  },
  {
   "cell_type": "code",
   "execution_count": 29,
   "metadata": {},
   "outputs": [],
   "source": [
    "scaled_train_data = pd.DataFrame(scaled_train_data,columns = ['close','open','high','low'])\n",
    "scaled_test_data = pd.DataFrame(scaled_test_data,columns = ['close','open','high','low'])\n",
    "scaled_train_label = pd.DataFrame(scaled_train_label,columns = ['close'])\n",
    "scaled_test_label = pd.DataFrame(scaled_test_label,columns = ['close'])"
   ]
  },
  {
   "cell_type": "code",
   "execution_count": 37,
   "metadata": {},
   "outputs": [],
   "source": [
    "def train_model():\n",
    "    input_layer = Input(batch_shape=(None,4))\n",
    "    h1 = Dense(64,activation = 'relu')(input_layer)\n",
    "    h1_1 = Dropout(0.3)(h1)\n",
    "    h2 = Dense(64,activation = 'relu')(h1_1)\n",
    "    h2_1 = Dropout(0.3)(h2)\n",
    "    h3 = Dense(64,activation = 'relu')(h2)\n",
    "    output = Dense(1,activation = 'linear')(h3)\n",
    "    model = Model(inputs = input_layer,outputs = output)\n",
    "    model.compile(loss='mse', optimizer = 'adam')\n",
    "    return model\n",
    "\n",
    "def percent_creation(df):\n",
    "    df['percent'] = None\n",
    "    for i in range(len(df)-1):\n",
    "        if df.iloc[i,0] <= df.iloc[i+1,0] :\n",
    "            df.iloc[i+1,-1] = 1\n",
    "        else :\n",
    "            df.iloc[i+1,-1] = 0\n",
    "            \n",
    "    return df"
   ]
  },
  {
   "cell_type": "code",
   "execution_count": 38,
   "metadata": {},
   "outputs": [
    {
     "name": "stdout",
     "output_type": "stream",
     "text": [
      "Epoch 1/100\n",
      "320/320 [==============================] - 1s 2ms/step - loss: 0.3266\n",
      "Epoch 2/100\n",
      "320/320 [==============================] - 0s 56us/step - loss: 0.0463\n",
      "Epoch 3/100\n",
      "320/320 [==============================] - 0s 47us/step - loss: 0.0316\n",
      "Epoch 4/100\n",
      "320/320 [==============================] - 0s 56us/step - loss: 0.0195\n",
      "Epoch 5/100\n",
      "320/320 [==============================] - 0s 59us/step - loss: 0.0172\n",
      "Epoch 6/100\n",
      "320/320 [==============================] - 0s 59us/step - loss: 0.0138\n",
      "Epoch 7/100\n",
      "320/320 [==============================] - 0s 69us/step - loss: 0.0131\n",
      "Epoch 8/100\n",
      "320/320 [==============================] - 0s 65us/step - loss: 0.0114\n",
      "Epoch 9/100\n",
      "320/320 [==============================] - 0s 62us/step - loss: 0.0103\n",
      "Epoch 10/100\n",
      "320/320 [==============================] - 0s 69us/step - loss: 0.0108\n",
      "Epoch 11/100\n",
      "320/320 [==============================] - 0s 69us/step - loss: 0.0088\n",
      "Epoch 12/100\n",
      "320/320 [==============================] - 0s 62us/step - loss: 0.0094\n",
      "Epoch 13/100\n",
      "320/320 [==============================] - 0s 65us/step - loss: 0.0086\n",
      "Epoch 14/100\n",
      "320/320 [==============================] - 0s 62us/step - loss: 0.0077\n",
      "Epoch 15/100\n",
      "320/320 [==============================] - 0s 106us/step - loss: 0.0089\n",
      "Epoch 16/100\n",
      "320/320 [==============================] - 0s 87us/step - loss: 0.0087\n",
      "Epoch 17/100\n",
      "320/320 [==============================] - 0s 84us/step - loss: 0.0081\n",
      "Epoch 18/100\n",
      "320/320 [==============================] - 0s 84us/step - loss: 0.0076\n",
      "Epoch 19/100\n",
      "320/320 [==============================] - 0s 65us/step - loss: 0.0079\n",
      "Epoch 20/100\n",
      "320/320 [==============================] - 0s 62us/step - loss: 0.0085\n",
      "Epoch 21/100\n",
      "320/320 [==============================] - 0s 47us/step - loss: 0.0079\n",
      "Epoch 22/100\n",
      "320/320 [==============================] - 0s 50us/step - loss: 0.0073\n",
      "Epoch 23/100\n",
      "320/320 [==============================] - 0s 50us/step - loss: 0.0074\n",
      "Epoch 24/100\n",
      "320/320 [==============================] - 0s 50us/step - loss: 0.0076\n",
      "Epoch 25/100\n",
      "320/320 [==============================] - 0s 53us/step - loss: 0.0073\n",
      "Epoch 26/100\n",
      "320/320 [==============================] - 0s 47us/step - loss: 0.0075\n",
      "Epoch 27/100\n",
      "320/320 [==============================] - 0s 62us/step - loss: 0.0069\n",
      "Epoch 28/100\n",
      "320/320 [==============================] - 0s 53us/step - loss: 0.0071\n",
      "Epoch 29/100\n",
      "320/320 [==============================] - 0s 59us/step - loss: 0.0074\n",
      "Epoch 30/100\n",
      "320/320 [==============================] - 0s 47us/step - loss: 0.0070\n",
      "Epoch 31/100\n",
      "320/320 [==============================] - 0s 59us/step - loss: 0.0066\n",
      "Epoch 32/100\n",
      "320/320 [==============================] - 0s 75us/step - loss: 0.0071\n",
      "Epoch 33/100\n",
      "320/320 [==============================] - 0s 44us/step - loss: 0.0074\n",
      "Epoch 34/100\n",
      "320/320 [==============================] - 0s 44us/step - loss: 0.0064\n",
      "Epoch 35/100\n",
      "320/320 [==============================] - 0s 47us/step - loss: 0.0065\n",
      "Epoch 36/100\n",
      "320/320 [==============================] - 0s 50us/step - loss: 0.0063\n",
      "Epoch 37/100\n",
      "320/320 [==============================] - 0s 47us/step - loss: 0.0058\n",
      "Epoch 38/100\n",
      "320/320 [==============================] - 0s 56us/step - loss: 0.0067\n",
      "Epoch 39/100\n",
      "320/320 [==============================] - 0s 47us/step - loss: 0.0065\n",
      "Epoch 40/100\n",
      "320/320 [==============================] - 0s 47us/step - loss: 0.0063\n",
      "Epoch 41/100\n",
      "320/320 [==============================] - 0s 50us/step - loss: 0.0065\n",
      "Epoch 42/100\n",
      "320/320 [==============================] - 0s 47us/step - loss: 0.0064\n",
      "Epoch 43/100\n",
      "320/320 [==============================] - 0s 59us/step - loss: 0.0063\n",
      "Epoch 44/100\n",
      "320/320 [==============================] - 0s 50us/step - loss: 0.0065\n",
      "Epoch 45/100\n",
      "320/320 [==============================] - 0s 59us/step - loss: 0.0063\n",
      "Epoch 46/100\n",
      "320/320 [==============================] - 0s 47us/step - loss: 0.0060\n",
      "Epoch 47/100\n",
      "320/320 [==============================] - 0s 62us/step - loss: 0.0067\n",
      "Epoch 48/100\n",
      "320/320 [==============================] - 0s 56us/step - loss: 0.0063\n",
      "Epoch 49/100\n",
      "320/320 [==============================] - 0s 53us/step - loss: 0.0064\n",
      "Epoch 50/100\n",
      "320/320 [==============================] - 0s 53us/step - loss: 0.0066\n",
      "Epoch 51/100\n",
      "320/320 [==============================] - 0s 62us/step - loss: 0.0066\n",
      "Epoch 52/100\n",
      "320/320 [==============================] - 0s 53us/step - loss: 0.0062\n",
      "Epoch 53/100\n",
      "320/320 [==============================] - 0s 59us/step - loss: 0.0060\n",
      "Epoch 54/100\n",
      "320/320 [==============================] - 0s 47us/step - loss: 0.0057\n",
      "Epoch 55/100\n",
      "320/320 [==============================] - 0s 44us/step - loss: 0.0060\n",
      "Epoch 56/100\n",
      "320/320 [==============================] - 0s 47us/step - loss: 0.0055\n",
      "Epoch 57/100\n",
      "320/320 [==============================] - 0s 56us/step - loss: 0.0059\n",
      "Epoch 58/100\n",
      "320/320 [==============================] - 0s 56us/step - loss: 0.0063\n",
      "Epoch 59/100\n",
      "320/320 [==============================] - 0s 50us/step - loss: 0.0062\n",
      "Epoch 60/100\n",
      "320/320 [==============================] - 0s 44us/step - loss: 0.0061\n",
      "Epoch 61/100\n",
      "320/320 [==============================] - 0s 44us/step - loss: 0.0063\n",
      "Epoch 62/100\n",
      "320/320 [==============================] - 0s 47us/step - loss: 0.0063\n",
      "Epoch 63/100\n",
      "320/320 [==============================] - 0s 62us/step - loss: 0.0059\n",
      "Epoch 64/100\n",
      "320/320 [==============================] - 0s 59us/step - loss: 0.0059\n",
      "Epoch 65/100\n",
      "320/320 [==============================] - 0s 47us/step - loss: 0.0060\n",
      "Epoch 66/100\n",
      "320/320 [==============================] - 0s 47us/step - loss: 0.0059\n",
      "Epoch 67/100\n",
      "320/320 [==============================] - 0s 47us/step - loss: 0.0064\n",
      "Epoch 68/100\n",
      "320/320 [==============================] - 0s 50us/step - loss: 0.0067\n",
      "Epoch 69/100\n",
      "320/320 [==============================] - 0s 69us/step - loss: 0.0059\n",
      "Epoch 70/100\n",
      "320/320 [==============================] - 0s 53us/step - loss: 0.0060\n",
      "Epoch 71/100\n",
      "320/320 [==============================] - 0s 62us/step - loss: 0.0064\n",
      "Epoch 72/100\n",
      "320/320 [==============================] - 0s 59us/step - loss: 0.0061\n",
      "Epoch 73/100\n",
      "320/320 [==============================] - 0s 94us/step - loss: 0.0063\n",
      "Epoch 74/100\n",
      "320/320 [==============================] - 0s 59us/step - loss: 0.0058\n",
      "Epoch 75/100\n",
      "320/320 [==============================] - 0s 56us/step - loss: 0.0062\n",
      "Epoch 76/100\n",
      "320/320 [==============================] - 0s 50us/step - loss: 0.0057\n",
      "Epoch 77/100\n",
      "320/320 [==============================] - 0s 53us/step - loss: 0.0059\n",
      "Epoch 78/100\n",
      "320/320 [==============================] - 0s 47us/step - loss: 0.0059\n",
      "Epoch 79/100\n",
      "320/320 [==============================] - 0s 47us/step - loss: 0.0057\n",
      "Epoch 80/100\n",
      "320/320 [==============================] - 0s 47us/step - loss: 0.0059\n",
      "Epoch 81/100\n",
      "320/320 [==============================] - 0s 65us/step - loss: 0.0060\n",
      "Epoch 82/100\n",
      "320/320 [==============================] - 0s 97us/step - loss: 0.0058\n",
      "Epoch 83/100\n",
      "320/320 [==============================] - 0s 65us/step - loss: 0.0060\n",
      "Epoch 84/100\n",
      "320/320 [==============================] - 0s 78us/step - loss: 0.0061\n",
      "Epoch 85/100\n",
      "320/320 [==============================] - 0s 75us/step - loss: 0.0056\n",
      "Epoch 86/100\n",
      "320/320 [==============================] - 0s 53us/step - loss: 0.0056\n",
      "Epoch 87/100\n",
      "320/320 [==============================] - 0s 47us/step - loss: 0.0057\n",
      "Epoch 88/100\n",
      "320/320 [==============================] - 0s 47us/step - loss: 0.0064\n",
      "Epoch 89/100\n",
      "320/320 [==============================] - 0s 47us/step - loss: 0.0060\n",
      "Epoch 90/100\n",
      "320/320 [==============================] - 0s 53us/step - loss: 0.0055\n",
      "Epoch 91/100\n",
      "320/320 [==============================] - 0s 47us/step - loss: 0.0058\n",
      "Epoch 92/100\n",
      "320/320 [==============================] - 0s 53us/step - loss: 0.0058\n",
      "Epoch 93/100\n",
      "320/320 [==============================] - 0s 56us/step - loss: 0.0057\n",
      "Epoch 94/100\n",
      "320/320 [==============================] - 0s 56us/step - loss: 0.0056\n",
      "Epoch 95/100\n",
      "320/320 [==============================] - 0s 53us/step - loss: 0.0058\n",
      "Epoch 96/100\n",
      "320/320 [==============================] - 0s 56us/step - loss: 0.0059\n",
      "Epoch 97/100\n",
      "320/320 [==============================] - 0s 50us/step - loss: 0.0055\n",
      "Epoch 98/100\n"
     ]
    },
    {
     "name": "stdout",
     "output_type": "stream",
     "text": [
      "320/320 [==============================] - 0s 53us/step - loss: 0.0056\n",
      "Epoch 99/100\n",
      "320/320 [==============================] - 0s 44us/step - loss: 0.0057\n",
      "Epoch 100/100\n",
      "320/320 [==============================] - 0s 53us/step - loss: 0.0056\n"
     ]
    },
    {
     "data": {
      "text/plain": [
       "<keras.callbacks.History at 0x27bddcfa898>"
      ]
     },
     "execution_count": 38,
     "metadata": {},
     "output_type": "execute_result"
    }
   ],
   "source": [
    "model = train_model()\n",
    "model.fit(scaled_train_data,scaled_train_label,epochs = 100)"
   ]
  },
  {
   "cell_type": "code",
   "execution_count": 39,
   "metadata": {},
   "outputs": [],
   "source": [
    "raw_result = model.predict(scaled_test_data)\n",
    "result = label_scaler.inverse_transform(raw_result)"
   ]
  },
  {
   "cell_type": "code",
   "execution_count": 40,
   "metadata": {},
   "outputs": [],
   "source": [
    "test_label = test_label.reset_index().iloc[:,1:]\n",
    "result = pd.DataFrame(result,columns = ['close'])"
   ]
  },
  {
   "cell_type": "code",
   "execution_count": 41,
   "metadata": {},
   "outputs": [
    {
     "data": {
      "text/plain": [
       "[<matplotlib.lines.Line2D at 0x27bd4b67e48>,\n",
       " <matplotlib.lines.Line2D at 0x27bdf313160>]"
      ]
     },
     "execution_count": 41,
     "metadata": {},
     "output_type": "execute_result"
    }
   ],
   "source": [
    "'''\n",
    "%matplotlib tk\n",
    "plt.plot(result,color = 'red')\n",
    "plt.plot(test_label)\n",
    "'''"
   ]
  },
  {
   "cell_type": "code",
   "execution_count": 42,
   "metadata": {},
   "outputs": [],
   "source": [
    "predict_value = percent_creation(result)\n",
    "predict_value = predict_value.iloc[1:,1:] "
   ]
  },
  {
   "cell_type": "code",
   "execution_count": 43,
   "metadata": {},
   "outputs": [],
   "source": [
    "real_value = percent_creation(test_label)\n",
    "real_value = real_value.iloc[1:,1:]"
   ]
  },
  {
   "cell_type": "code",
   "execution_count": 44,
   "metadata": {},
   "outputs": [
    {
     "data": {
      "text/plain": [
       "0.5306122448979592"
      ]
     },
     "execution_count": 44,
     "metadata": {},
     "output_type": "execute_result"
    }
   ],
   "source": [
    "accuracy_score(predict_value.values.tolist(),real_value.values.tolist())"
   ]
  },
  {
   "cell_type": "code",
   "execution_count": null,
   "metadata": {},
   "outputs": [],
   "source": [
    "0.5306122448979592"
   ]
  },
  {
   "cell_type": "code",
   "execution_count": 45,
   "metadata": {},
   "outputs": [],
   "source": [
    "model.save_weights(\"2018_08_06_normal_model_01.h5\")"
   ]
  },
  {
   "cell_type": "code",
   "execution_count": null,
   "metadata": {},
   "outputs": [],
   "source": []
  },
  {
   "cell_type": "code",
   "execution_count": null,
   "metadata": {},
   "outputs": [],
   "source": []
  },
  {
   "cell_type": "code",
   "execution_count": null,
   "metadata": {},
   "outputs": [],
   "source": []
  },
  {
   "cell_type": "code",
   "execution_count": null,
   "metadata": {},
   "outputs": [],
   "source": []
  },
  {
   "cell_type": "code",
   "execution_count": null,
   "metadata": {},
   "outputs": [],
   "source": []
  },
  {
   "cell_type": "code",
   "execution_count": null,
   "metadata": {},
   "outputs": [],
   "source": [
    "'''\n",
    "model.save_weights(\"2018_08_06_normal_model_01.h5\")의 모델\n",
    "    input_layer = Input(batch_shape=(None,4))\n",
    "    h1 = Dense(64,activation = 'relu')(input_layer)\n",
    "    h1_1 = Dropout(0.3)(h1)\n",
    "    h2 = Dense(64,activation = 'relu')(h1_1)\n",
    "    h2_1 = Dropout(0.3)(h2)\n",
    "    h3 = Dense(64,activation = 'relu')(h2)\n",
    "    output = Dense(1,activation = 'linear')(h3)\n",
    "    model = Model(inputs = input_layer,outputs = output)\n",
    "    model.compile(loss='mse', optimizer = 'adam')\n",
    "    return model\n",
    "'''"
   ]
  }
 ],
 "metadata": {
  "kernelspec": {
   "display_name": "Python 3",
   "language": "python",
   "name": "python3"
  },
  "language_info": {
   "codemirror_mode": {
    "name": "ipython",
    "version": 3
   },
   "file_extension": ".py",
   "mimetype": "text/x-python",
   "name": "python",
   "nbconvert_exporter": "python",
   "pygments_lexer": "ipython3",
   "version": "3.6.4"
  }
 },
 "nbformat": 4,
 "nbformat_minor": 2
}
