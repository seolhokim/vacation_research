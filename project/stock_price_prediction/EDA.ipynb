{
 "cells": [
  {
   "cell_type": "code",
   "execution_count": 12,
   "metadata": {},
   "outputs": [],
   "source": [
    "#-*- coding:euc-kr -*-"
   ]
  },
  {
   "cell_type": "code",
   "execution_count": null,
   "metadata": {},
   "outputs": [],
   "source": [
    "import pandas as pd\n",
    "import matplotlib.pyplot as plt"
   ]
  },
  {
   "cell_type": "code",
   "execution_count": 81,
   "metadata": {},
   "outputs": [
    {
     "name": "stderr",
     "output_type": "stream",
     "text": [
      "C:\\Users\\sh2\\Anaconda3\\lib\\site-packages\\ipykernel_launcher.py:3: FutureWarning: sort(columns=....) is deprecated, use sort_values(by=.....)\n",
      "  This is separate from the ipykernel package so we can avoid doing imports until\n"
     ]
    }
   ],
   "source": [
    "data = pd.read_csv(\"data2.csv\",encoding='euc-kr')\n",
    "data['년/월/일'] = pd.to_datetime(data['년/월/일'])\n",
    "data = data.sort('년/월/일')\n",
    "data = data.reset_index().iloc[:,1:]"
   ]
  },
  {
   "cell_type": "code",
   "execution_count": 82,
   "metadata": {},
   "outputs": [
    {
     "data": {
      "text/html": [
       "<div>\n",
       "<table border=\"1\" class=\"dataframe\">\n",
       "  <thead>\n",
       "    <tr style=\"text-align: right;\">\n",
       "      <th></th>\n",
       "      <th>년/월/일</th>\n",
       "      <th>종가</th>\n",
       "      <th>대비</th>\n",
       "      <th>거래량(주)</th>\n",
       "      <th>거래대금(원)</th>\n",
       "      <th>시가</th>\n",
       "      <th>고가</th>\n",
       "      <th>저가</th>\n",
       "      <th>시가총액(백만)</th>\n",
       "      <th>상장주식수(주)</th>\n",
       "    </tr>\n",
       "  </thead>\n",
       "  <tbody>\n",
       "    <tr>\n",
       "      <th>0</th>\n",
       "      <td>2017-06-26</td>\n",
       "      <td>22500</td>\n",
       "      <td>200</td>\n",
       "      <td>149294</td>\n",
       "      <td>3.354340e+09</td>\n",
       "      <td>22250</td>\n",
       "      <td>22850</td>\n",
       "      <td>22050</td>\n",
       "      <td>747851</td>\n",
       "      <td>33237807</td>\n",
       "    </tr>\n",
       "    <tr>\n",
       "      <th>1</th>\n",
       "      <td>2017-06-27</td>\n",
       "      <td>22500</td>\n",
       "      <td>0</td>\n",
       "      <td>236309</td>\n",
       "      <td>5.380407e+09</td>\n",
       "      <td>22800</td>\n",
       "      <td>23150</td>\n",
       "      <td>22500</td>\n",
       "      <td>747851</td>\n",
       "      <td>33237807</td>\n",
       "    </tr>\n",
       "    <tr>\n",
       "      <th>2</th>\n",
       "      <td>2017-06-28</td>\n",
       "      <td>22300</td>\n",
       "      <td>-200</td>\n",
       "      <td>111193</td>\n",
       "      <td>2.478979e+09</td>\n",
       "      <td>22350</td>\n",
       "      <td>22500</td>\n",
       "      <td>22200</td>\n",
       "      <td>741203</td>\n",
       "      <td>33237807</td>\n",
       "    </tr>\n",
       "    <tr>\n",
       "      <th>3</th>\n",
       "      <td>2017-06-29</td>\n",
       "      <td>21850</td>\n",
       "      <td>-450</td>\n",
       "      <td>87226</td>\n",
       "      <td>1.921456e+09</td>\n",
       "      <td>22450</td>\n",
       "      <td>22450</td>\n",
       "      <td>21850</td>\n",
       "      <td>726246</td>\n",
       "      <td>33237807</td>\n",
       "    </tr>\n",
       "    <tr>\n",
       "      <th>4</th>\n",
       "      <td>2017-06-30</td>\n",
       "      <td>22150</td>\n",
       "      <td>300</td>\n",
       "      <td>107599</td>\n",
       "      <td>2.363833e+09</td>\n",
       "      <td>21700</td>\n",
       "      <td>22150</td>\n",
       "      <td>21650</td>\n",
       "      <td>736330</td>\n",
       "      <td>33242903</td>\n",
       "    </tr>\n",
       "  </tbody>\n",
       "</table>\n",
       "</div>"
      ],
      "text/plain": [
       "       년/월/일     종가   대비  거래량(주)       거래대금(원)     시가     고가     저가  시가총액(백만)  \\\n",
       "0 2017-06-26  22500  200  149294  3.354340e+09  22250  22850  22050    747851   \n",
       "1 2017-06-27  22500    0  236309  5.380407e+09  22800  23150  22500    747851   \n",
       "2 2017-06-28  22300 -200  111193  2.478979e+09  22350  22500  22200    741203   \n",
       "3 2017-06-29  21850 -450   87226  1.921456e+09  22450  22450  21850    726246   \n",
       "4 2017-06-30  22150  300  107599  2.363833e+09  21700  22150  21650    736330   \n",
       "\n",
       "   상장주식수(주)  \n",
       "0  33237807  \n",
       "1  33237807  \n",
       "2  33237807  \n",
       "3  33237807  \n",
       "4  33242903  "
      ]
     },
     "execution_count": 82,
     "metadata": {},
     "output_type": "execute_result"
    }
   ],
   "source": [
    "data.head()"
   ]
  },
  {
   "cell_type": "code",
   "execution_count": 84,
   "metadata": {},
   "outputs": [],
   "source": [
    "%matplotlib tk\n",
    "plt.figure(figsize=(10,6))\n",
    "plt.plot(data['년/월/일'],data['시가'], color='red')\n",
    "plt.gcf().autofmt_xdate()\n",
    "#plt.yticks(test)\n",
    "plt.show()"
   ]
  }
 ],
 "metadata": {
  "kernelspec": {
   "display_name": "Python 3",
   "language": "python",
   "name": "python3"
  },
  "language_info": {
   "codemirror_mode": {
    "name": "ipython",
    "version": 3
   },
   "file_extension": ".py",
   "mimetype": "text/x-python",
   "name": "python",
   "nbconvert_exporter": "python",
   "pygments_lexer": "ipython3",
   "version": "3.6.4"
  }
 },
 "nbformat": 4,
 "nbformat_minor": 2
}
